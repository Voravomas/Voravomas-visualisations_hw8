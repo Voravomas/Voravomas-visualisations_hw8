{
 "cells": [
  {
   "cell_type": "code",
   "execution_count": null,
   "id": "02b643b8",
   "metadata": {},
   "outputs": [],
   "source": [
    "У додатку ви знайдете файл, котрий містить дані та зображення - візуалізацію на основі цих даних\n",
    "\n",
    "Ваша задача:\n",
    "- Ідентифікувати та описати проблеми у цій візуалізації даних (я очікую від вас текст)\n",
    "- Зробити альтернативний варіант презентації цих даних (я очікую від вас візуалізацію та пояснення, чому вона працює ліпше, ніж оригінальна)"
   ]
  },
  {
   "cell_type": "markdown",
   "id": "14a0494d",
   "metadata": {},
   "source": [
    "Поточна візуалізація:\n",
    "![old image](old.png \"Old_image\")"
   ]
  },
  {
   "cell_type": "markdown",
   "id": "9b2ad7ce",
   "metadata": {},
   "source": [
    "Перелік помилок, які я побачив:\n",
    "1) зображуються різні види даних (регіони, країна загалом)<br/>\n",
    "2) мало того, що дані в ряд, так ще й кожен стовпчик щось показує<br/>\n",
    "3) вертикальна шкала тільки заплутує орієнтацію по наповненності колонки<br/>\n",
    "4) текст горизонтальної шкали повернутий і складно читається<br/>\n",
    "5) сама картинка трохи сплюснута по вертикалі (по тексту це видно)<br/>\n",
    "6) я б ще \"послуги\" якось скоротив, бо дуже велика назва"
   ]
  },
  {
   "cell_type": "code",
   "execution_count": 80,
   "id": "6da50da0",
   "metadata": {},
   "outputs": [
    {
     "name": "stdout",
     "output_type": "stream",
     "text": [
      "Requirement already satisfied: pandas in /Users/mykyta/aastudy/visual/venv/lib/python3.8/site-packages (1.3.3)\n",
      "Requirement already satisfied: altair in /Users/mykyta/aastudy/visual/venv/lib/python3.8/site-packages (4.1.0)\n",
      "Requirement already satisfied: numpy>=1.17.3 in /Users/mykyta/aastudy/visual/venv/lib/python3.8/site-packages (from pandas) (1.21.2)\n",
      "Requirement already satisfied: python-dateutil>=2.7.3 in /Users/mykyta/aastudy/visual/venv/lib/python3.8/site-packages (from pandas) (2.8.2)\n",
      "Requirement already satisfied: pytz>=2017.3 in /Users/mykyta/aastudy/visual/venv/lib/python3.8/site-packages (from pandas) (2021.3)\n",
      "Requirement already satisfied: entrypoints in /Users/mykyta/aastudy/visual/venv/lib/python3.8/site-packages (from altair) (0.3)\n",
      "Requirement already satisfied: jsonschema in /Users/mykyta/aastudy/visual/venv/lib/python3.8/site-packages (from altair) (4.0.1)\n",
      "Requirement already satisfied: jinja2 in /Users/mykyta/aastudy/visual/venv/lib/python3.8/site-packages (from altair) (3.0.2)\n",
      "Requirement already satisfied: toolz in /Users/mykyta/aastudy/visual/venv/lib/python3.8/site-packages (from altair) (0.11.1)\n",
      "Requirement already satisfied: six>=1.5 in /Users/mykyta/aastudy/visual/venv/lib/python3.8/site-packages (from python-dateutil>=2.7.3->pandas) (1.16.0)\n",
      "Requirement already satisfied: MarkupSafe>=2.0 in /Users/mykyta/aastudy/visual/venv/lib/python3.8/site-packages (from jinja2->altair) (2.0.1)\n",
      "Requirement already satisfied: pyrsistent!=0.17.0,!=0.17.1,!=0.17.2,>=0.14.0 in /Users/mykyta/aastudy/visual/venv/lib/python3.8/site-packages (from jsonschema->altair) (0.18.0)\n",
      "Requirement already satisfied: attrs>=17.4.0 in /Users/mykyta/aastudy/visual/venv/lib/python3.8/site-packages (from jsonschema->altair) (21.2.0)\n",
      "\u001b[33mWARNING: You are using pip version 21.2.4; however, version 21.3.1 is available.\n",
      "You should consider upgrading via the '/Users/mykyta/aastudy/visual/venv/bin/python3 -m pip install --upgrade pip' command.\u001b[0m\n"
     ]
    }
   ],
   "source": [
    "import sys\n",
    "!{sys.executable} -m pip install pandas altair"
   ]
  },
  {
   "cell_type": "code",
   "execution_count": 81,
   "id": "5cac40c5",
   "metadata": {},
   "outputs": [
    {
     "data": {
      "text/plain": [
       "DataTransformerRegistry.enable('default')"
      ]
     },
     "execution_count": 81,
     "metadata": {},
     "output_type": "execute_result"
    }
   ],
   "source": [
    "import pandas as pd\n",
    "import altair as alt\n",
    "import datetime as dt\n",
    "alt.data_transformers.disable_max_rows()"
   ]
  },
  {
   "cell_type": "code",
   "execution_count": 82,
   "id": "424cff4a",
   "metadata": {},
   "outputs": [
    {
     "data": {
      "text/html": [
       "<div>\n",
       "<style scoped>\n",
       "    .dataframe tbody tr th:only-of-type {\n",
       "        vertical-align: middle;\n",
       "    }\n",
       "\n",
       "    .dataframe tbody tr th {\n",
       "        vertical-align: top;\n",
       "    }\n",
       "\n",
       "    .dataframe thead th {\n",
       "        text-align: right;\n",
       "    }\n",
       "</style>\n",
       "<table border=\"1\" class=\"dataframe\">\n",
       "  <thead>\n",
       "    <tr style=\"text-align: right;\">\n",
       "      <th></th>\n",
       "      <th>Регіон, рік</th>\n",
       "      <th>сільське господарство</th>\n",
       "      <th>промисловість</th>\n",
       "      <th>будівництво</th>\n",
       "      <th>послуги</th>\n",
       "      <th>державне управління</th>\n",
       "    </tr>\n",
       "  </thead>\n",
       "  <tbody>\n",
       "    <tr>\n",
       "      <th>0</th>\n",
       "      <td>Україна, 2010</td>\n",
       "      <td>8.3</td>\n",
       "      <td>25.9</td>\n",
       "      <td>3.3</td>\n",
       "      <td>57.3</td>\n",
       "      <td>5.2</td>\n",
       "    </tr>\n",
       "    <tr>\n",
       "      <th>1</th>\n",
       "      <td>Україна, 2017</td>\n",
       "      <td>12.1</td>\n",
       "      <td>25.2</td>\n",
       "      <td>2.5</td>\n",
       "      <td>53.7</td>\n",
       "      <td>6.5</td>\n",
       "    </tr>\n",
       "    <tr>\n",
       "      <th>2</th>\n",
       "      <td>Вінницька, 2010</td>\n",
       "      <td>21.6</td>\n",
       "      <td>19.3</td>\n",
       "      <td>4.1</td>\n",
       "      <td>47.4</td>\n",
       "      <td>7.6</td>\n",
       "    </tr>\n",
       "    <tr>\n",
       "      <th>3</th>\n",
       "      <td>Вінницька, 2017</td>\n",
       "      <td>28.1</td>\n",
       "      <td>21.4</td>\n",
       "      <td>2.0</td>\n",
       "      <td>39.8</td>\n",
       "      <td>8.7</td>\n",
       "    </tr>\n",
       "    <tr>\n",
       "      <th>4</th>\n",
       "      <td>Волинська, 2010</td>\n",
       "      <td>16.9</td>\n",
       "      <td>15.6</td>\n",
       "      <td>3.2</td>\n",
       "      <td>57.7</td>\n",
       "      <td>6.6</td>\n",
       "    </tr>\n",
       "  </tbody>\n",
       "</table>\n",
       "</div>"
      ],
      "text/plain": [
       "       Регіон, рік  сільське господарство  промисловість  будівництво  \\\n",
       "0    Україна, 2010                    8.3           25.9          3.3   \n",
       "1    Україна, 2017                   12.1           25.2          2.5   \n",
       "2  Вінницька, 2010                   21.6           19.3          4.1   \n",
       "3  Вінницька, 2017                   28.1           21.4          2.0   \n",
       "4  Волинська, 2010                   16.9           15.6          3.2   \n",
       "\n",
       "   послуги  державне управління  \n",
       "0     57.3                  5.2  \n",
       "1     53.7                  6.5  \n",
       "2     47.4                  7.6  \n",
       "3     39.8                  8.7  \n",
       "4     57.7                  6.6  "
      ]
     },
     "execution_count": 82,
     "metadata": {},
     "output_type": "execute_result"
    }
   ],
   "source": [
    "def load_data():\n",
    "    return pd.read_excel('1.4_02.xlsx')\n",
    "\n",
    "df = load_data()\n",
    "df.head()"
   ]
  },
  {
   "cell_type": "code",
   "execution_count": 83,
   "id": "bf0eb7e4",
   "metadata": {},
   "outputs": [],
   "source": [
    "# Transforming data\n",
    "\n",
    "# instead of having multiple different columns, we will make 'category' column.\n",
    "# Also separate year and region\n",
    "# And add colors\n",
    "\n",
    "transformed_df = {'year': [], 'region': [], 'value': [], 'category': []}\n",
    "for a, b in df.iterrows():\n",
    "    reg, year = b['Регіон, рік'].split(',')\n",
    "    year = year.strip()\n",
    "    temp_dict = {'сільгосп': b['сільське господарство'],\n",
    "                 'промисловість': b['промисловість'],\n",
    "                 'будівництво': b['будівництво'],\n",
    "                 'послуги': b['послуги'],\n",
    "                 'держуправління': b['державне управління']}\n",
    "    for category, value in temp_dict.items():\n",
    "        transformed_df['year'].append(year)\n",
    "        transformed_df['region'].append(reg)\n",
    "        transformed_df['value'].append(value)\n",
    "        transformed_df['category'].append(category)\n",
    "\n",
    "transformed_df = pd.DataFrame(transformed_df)"
   ]
  },
  {
   "cell_type": "code",
   "execution_count": 84,
   "id": "93856d00",
   "metadata": {},
   "outputs": [
    {
     "data": {
      "text/html": [
       "<div>\n",
       "<style scoped>\n",
       "    .dataframe tbody tr th:only-of-type {\n",
       "        vertical-align: middle;\n",
       "    }\n",
       "\n",
       "    .dataframe tbody tr th {\n",
       "        vertical-align: top;\n",
       "    }\n",
       "\n",
       "    .dataframe thead th {\n",
       "        text-align: right;\n",
       "    }\n",
       "</style>\n",
       "<table border=\"1\" class=\"dataframe\">\n",
       "  <thead>\n",
       "    <tr style=\"text-align: right;\">\n",
       "      <th></th>\n",
       "      <th>year</th>\n",
       "      <th>region</th>\n",
       "      <th>value</th>\n",
       "      <th>category</th>\n",
       "    </tr>\n",
       "  </thead>\n",
       "  <tbody>\n",
       "    <tr>\n",
       "      <th>0</th>\n",
       "      <td>2010</td>\n",
       "      <td>Україна</td>\n",
       "      <td>8.3</td>\n",
       "      <td>сільгосп</td>\n",
       "    </tr>\n",
       "    <tr>\n",
       "      <th>1</th>\n",
       "      <td>2010</td>\n",
       "      <td>Україна</td>\n",
       "      <td>25.9</td>\n",
       "      <td>промисловість</td>\n",
       "    </tr>\n",
       "    <tr>\n",
       "      <th>2</th>\n",
       "      <td>2010</td>\n",
       "      <td>Україна</td>\n",
       "      <td>3.3</td>\n",
       "      <td>будівництво</td>\n",
       "    </tr>\n",
       "    <tr>\n",
       "      <th>3</th>\n",
       "      <td>2010</td>\n",
       "      <td>Україна</td>\n",
       "      <td>57.3</td>\n",
       "      <td>послуги</td>\n",
       "    </tr>\n",
       "    <tr>\n",
       "      <th>4</th>\n",
       "      <td>2010</td>\n",
       "      <td>Україна</td>\n",
       "      <td>5.2</td>\n",
       "      <td>держуправління</td>\n",
       "    </tr>\n",
       "  </tbody>\n",
       "</table>\n",
       "</div>"
      ],
      "text/plain": [
       "   year   region  value        category\n",
       "0  2010  Україна    8.3        сільгосп\n",
       "1  2010  Україна   25.9   промисловість\n",
       "2  2010  Україна    3.3     будівництво\n",
       "3  2010  Україна   57.3         послуги\n",
       "4  2010  Україна    5.2  держуправління"
      ]
     },
     "execution_count": 84,
     "metadata": {},
     "output_type": "execute_result"
    }
   ],
   "source": [
    "transformed_df.head()"
   ]
  },
  {
   "cell_type": "code",
   "execution_count": 85,
   "id": "703232d3",
   "metadata": {},
   "outputs": [],
   "source": [
    "# next thing we will separate Ukraine from other regions, since it is other data\n",
    "ukr_only = transformed_df[:10]\n",
    "transformed_df = transformed_df[11:]"
   ]
  },
  {
   "cell_type": "code",
   "execution_count": 86,
   "id": "ef421ab6",
   "metadata": {},
   "outputs": [
    {
     "data": {
      "text/html": [
       "<div>\n",
       "<style scoped>\n",
       "    .dataframe tbody tr th:only-of-type {\n",
       "        vertical-align: middle;\n",
       "    }\n",
       "\n",
       "    .dataframe tbody tr th {\n",
       "        vertical-align: top;\n",
       "    }\n",
       "\n",
       "    .dataframe thead th {\n",
       "        text-align: right;\n",
       "    }\n",
       "</style>\n",
       "<table border=\"1\" class=\"dataframe\">\n",
       "  <thead>\n",
       "    <tr style=\"text-align: right;\">\n",
       "      <th></th>\n",
       "      <th>year</th>\n",
       "      <th>region</th>\n",
       "      <th>value</th>\n",
       "      <th>category</th>\n",
       "    </tr>\n",
       "  </thead>\n",
       "  <tbody>\n",
       "    <tr>\n",
       "      <th>0</th>\n",
       "      <td>2010</td>\n",
       "      <td>Україна</td>\n",
       "      <td>8.3</td>\n",
       "      <td>сільгосп</td>\n",
       "    </tr>\n",
       "    <tr>\n",
       "      <th>1</th>\n",
       "      <td>2010</td>\n",
       "      <td>Україна</td>\n",
       "      <td>25.9</td>\n",
       "      <td>промисловість</td>\n",
       "    </tr>\n",
       "    <tr>\n",
       "      <th>2</th>\n",
       "      <td>2010</td>\n",
       "      <td>Україна</td>\n",
       "      <td>3.3</td>\n",
       "      <td>будівництво</td>\n",
       "    </tr>\n",
       "    <tr>\n",
       "      <th>3</th>\n",
       "      <td>2010</td>\n",
       "      <td>Україна</td>\n",
       "      <td>57.3</td>\n",
       "      <td>послуги</td>\n",
       "    </tr>\n",
       "    <tr>\n",
       "      <th>4</th>\n",
       "      <td>2010</td>\n",
       "      <td>Україна</td>\n",
       "      <td>5.2</td>\n",
       "      <td>держуправління</td>\n",
       "    </tr>\n",
       "  </tbody>\n",
       "</table>\n",
       "</div>"
      ],
      "text/plain": [
       "   year   region  value        category\n",
       "0  2010  Україна    8.3        сільгосп\n",
       "1  2010  Україна   25.9   промисловість\n",
       "2  2010  Україна    3.3     будівництво\n",
       "3  2010  Україна   57.3         послуги\n",
       "4  2010  Україна    5.2  держуправління"
      ]
     },
     "execution_count": 86,
     "metadata": {},
     "output_type": "execute_result"
    }
   ],
   "source": [
    "ukr_only.head()"
   ]
  },
  {
   "cell_type": "code",
   "execution_count": 87,
   "id": "75f7692c",
   "metadata": {},
   "outputs": [
    {
     "data": {
      "text/html": [
       "<div>\n",
       "<style scoped>\n",
       "    .dataframe tbody tr th:only-of-type {\n",
       "        vertical-align: middle;\n",
       "    }\n",
       "\n",
       "    .dataframe tbody tr th {\n",
       "        vertical-align: top;\n",
       "    }\n",
       "\n",
       "    .dataframe thead th {\n",
       "        text-align: right;\n",
       "    }\n",
       "</style>\n",
       "<table border=\"1\" class=\"dataframe\">\n",
       "  <thead>\n",
       "    <tr style=\"text-align: right;\">\n",
       "      <th></th>\n",
       "      <th>year</th>\n",
       "      <th>region</th>\n",
       "      <th>value</th>\n",
       "      <th>category</th>\n",
       "    </tr>\n",
       "  </thead>\n",
       "  <tbody>\n",
       "    <tr>\n",
       "      <th>11</th>\n",
       "      <td>2010</td>\n",
       "      <td>Вінницька</td>\n",
       "      <td>19.3</td>\n",
       "      <td>промисловість</td>\n",
       "    </tr>\n",
       "    <tr>\n",
       "      <th>12</th>\n",
       "      <td>2010</td>\n",
       "      <td>Вінницька</td>\n",
       "      <td>4.1</td>\n",
       "      <td>будівництво</td>\n",
       "    </tr>\n",
       "    <tr>\n",
       "      <th>13</th>\n",
       "      <td>2010</td>\n",
       "      <td>Вінницька</td>\n",
       "      <td>47.4</td>\n",
       "      <td>послуги</td>\n",
       "    </tr>\n",
       "    <tr>\n",
       "      <th>14</th>\n",
       "      <td>2010</td>\n",
       "      <td>Вінницька</td>\n",
       "      <td>7.6</td>\n",
       "      <td>держуправління</td>\n",
       "    </tr>\n",
       "    <tr>\n",
       "      <th>15</th>\n",
       "      <td>2017</td>\n",
       "      <td>Вінницька</td>\n",
       "      <td>28.1</td>\n",
       "      <td>сільгосп</td>\n",
       "    </tr>\n",
       "  </tbody>\n",
       "</table>\n",
       "</div>"
      ],
      "text/plain": [
       "    year     region  value        category\n",
       "11  2010  Вінницька   19.3   промисловість\n",
       "12  2010  Вінницька    4.1     будівництво\n",
       "13  2010  Вінницька   47.4         послуги\n",
       "14  2010  Вінницька    7.6  держуправління\n",
       "15  2017  Вінницька   28.1        сільгосп"
      ]
     },
     "execution_count": 87,
     "metadata": {},
     "output_type": "execute_result"
    }
   ],
   "source": [
    "transformed_df.head()"
   ]
  },
  {
   "cell_type": "code",
   "execution_count": 88,
   "id": "7c92a393",
   "metadata": {},
   "outputs": [],
   "source": [
    "input_dropdown = alt.binding_select(options = ukr_only.category.unique())\n",
    "select_category = alt.selection_single(fields = ['category'], bind = input_dropdown)"
   ]
  },
  {
   "cell_type": "code",
   "execution_count": 89,
   "id": "11037fb8",
   "metadata": {},
   "outputs": [],
   "source": [
    "dom = ['2010', '2017']\n",
    "rng = ['blue', 'orange']\n",
    "\n",
    "ukr_chart = alt.Chart(ukr_only).mark_bar().encode(\n",
    "    y = alt.Y('value:Q'),\n",
    "    x = alt.X('year:N'),\n",
    "    color=alt.condition(\n",
    "        alt.datum.year == '2010',\n",
    "        alt.value('#849cc4'),\n",
    "        alt.value('#f1aa5e'),\n",
    "    )\n",
    ").add_selection(\n",
    "    select_category\n",
    ").transform_filter(select_category)"
   ]
  },
  {
   "cell_type": "code",
   "execution_count": 90,
   "id": "47f789b2",
   "metadata": {},
   "outputs": [],
   "source": [
    "lines = alt.Chart(transformed_df).mark_line().encode(\n",
    "    x = alt.X('max(value):Q'),\n",
    "    x2 = alt.X2('min(value):Q'),\n",
    "    y = alt.Y('region:N', sort=alt.Sort(field='region', op='max', order='descending')))\n",
    "\n",
    "points = alt.Chart(transformed_df).mark_circle(size = 100).encode(\n",
    "    x = alt.X('value:Q'),\n",
    "    y = alt.Y('region:N', sort=alt.Sort(field='region', op='max', order='descending')),\n",
    "    color = alt.Color('year:N')\n",
    ")"
   ]
  },
  {
   "cell_type": "markdown",
   "id": "040b15eb",
   "metadata": {},
   "source": [
    "Result:\n",
    "Чому моя візуалізація краще:\n",
    "1) Всі типи даних однакові. Окремо регіони, окремо (поруч справа) країна загалом<br/>\n",
    "2) Показується одна категорія даних на дисплеї за раз. Немає перенасичення даними на картинці<br/>\n",
    "3) Вертикальна шкала допомагає зрозуміти про який регіон говориться, горизонтальна +- чітко показує значення<br/>\n",
    "4) На основній таблиці текст горизонтальний<br/>\n",
    "5) картинка не сплюснута і навіть інтерактивна\n",
    "![new image](new.gif \"New_visualisation\")"
   ]
  },
  {
   "cell_type": "code",
   "execution_count": 91,
   "id": "2098f3ac",
   "metadata": {},
   "outputs": [
    {
     "data": {
      "text/html": [
       "\n",
       "<div id=\"altair-viz-1f77f816d225469c96dd9186b2680797\"></div>\n",
       "<script type=\"text/javascript\">\n",
       "  (function(spec, embedOpt){\n",
       "    let outputDiv = document.currentScript.previousElementSibling;\n",
       "    if (outputDiv.id !== \"altair-viz-1f77f816d225469c96dd9186b2680797\") {\n",
       "      outputDiv = document.getElementById(\"altair-viz-1f77f816d225469c96dd9186b2680797\");\n",
       "    }\n",
       "    const paths = {\n",
       "      \"vega\": \"https://cdn.jsdelivr.net/npm//vega@5?noext\",\n",
       "      \"vega-lib\": \"https://cdn.jsdelivr.net/npm//vega-lib?noext\",\n",
       "      \"vega-lite\": \"https://cdn.jsdelivr.net/npm//vega-lite@4.8.1?noext\",\n",
       "      \"vega-embed\": \"https://cdn.jsdelivr.net/npm//vega-embed@6?noext\",\n",
       "    };\n",
       "\n",
       "    function loadScript(lib) {\n",
       "      return new Promise(function(resolve, reject) {\n",
       "        var s = document.createElement('script');\n",
       "        s.src = paths[lib];\n",
       "        s.async = true;\n",
       "        s.onload = () => resolve(paths[lib]);\n",
       "        s.onerror = () => reject(`Error loading script: ${paths[lib]}`);\n",
       "        document.getElementsByTagName(\"head\")[0].appendChild(s);\n",
       "      });\n",
       "    }\n",
       "\n",
       "    function showError(err) {\n",
       "      outputDiv.innerHTML = `<div class=\"error\" style=\"color:red;\">${err}</div>`;\n",
       "      throw err;\n",
       "    }\n",
       "\n",
       "    function displayChart(vegaEmbed) {\n",
       "      vegaEmbed(outputDiv, spec, embedOpt)\n",
       "        .catch(err => showError(`Javascript Error: ${err.message}<br>This usually means there's a typo in your chart specification. See the javascript console for the full traceback.`));\n",
       "    }\n",
       "\n",
       "    if(typeof define === \"function\" && define.amd) {\n",
       "      requirejs.config({paths});\n",
       "      require([\"vega-embed\"], displayChart, err => showError(`Error loading script: ${err.message}`));\n",
       "    } else if (typeof vegaEmbed === \"function\") {\n",
       "      displayChart(vegaEmbed);\n",
       "    } else {\n",
       "      loadScript(\"vega\")\n",
       "        .then(() => loadScript(\"vega-lite\"))\n",
       "        .then(() => loadScript(\"vega-embed\"))\n",
       "        .catch(showError)\n",
       "        .then(() => displayChart(vegaEmbed));\n",
       "    }\n",
       "  })({\"config\": {\"view\": {\"continuousWidth\": 400, \"continuousHeight\": 300}}, \"hconcat\": [{\"layer\": [{\"mark\": \"line\", \"encoding\": {\"x\": {\"type\": \"quantitative\", \"aggregate\": \"max\", \"field\": \"value\"}, \"x2\": {\"aggregate\": \"min\", \"field\": \"value\"}, \"y\": {\"type\": \"nominal\", \"field\": \"region\", \"sort\": {\"field\": \"region\", \"op\": \"max\", \"order\": \"descending\"}}}, \"selection\": {\"selector008\": {\"type\": \"single\", \"fields\": [\"category\"], \"bind\": {\"input\": \"select\", \"options\": [\"\\u0441\\u0456\\u043b\\u044c\\u0433\\u043e\\u0441\\u043f\", \"\\u043f\\u0440\\u043e\\u043c\\u0438\\u0441\\u043b\\u043e\\u0432\\u0456\\u0441\\u0442\\u044c\", \"\\u0431\\u0443\\u0434\\u0456\\u0432\\u043d\\u0438\\u0446\\u0442\\u0432\\u043e\", \"\\u043f\\u043e\\u0441\\u043b\\u0443\\u0433\\u0438\", \"\\u0434\\u0435\\u0440\\u0436\\u0443\\u043f\\u0440\\u0430\\u0432\\u043b\\u0456\\u043d\\u043d\\u044f\"]}}}}, {\"mark\": {\"type\": \"circle\", \"size\": 100}, \"encoding\": {\"color\": {\"type\": \"nominal\", \"field\": \"year\"}, \"x\": {\"type\": \"quantitative\", \"field\": \"value\"}, \"y\": {\"type\": \"nominal\", \"field\": \"region\", \"sort\": {\"field\": \"region\", \"op\": \"max\", \"order\": \"descending\"}}}}], \"data\": {\"name\": \"data-24f7fcc82950a70cd4cd14c34d39368a\"}, \"height\": 600, \"title\": \"\\u0417\\u043c\\u0456\\u043d\\u0430 \\u0441\\u0442\\u0440\\u0443\\u043a\\u0442\\u0443\\u0440\\u0438 \\u0412\\u0414\\u0412 \\u0443 \\u0440\\u043e\\u0437\\u0440\\u0456\\u0437\\u0456 \\u0440\\u0435\\u0433\\u0456\\u043e\\u043d\\u0456\\u0432 \\u0437\\u0430 2017 \\u0440\\u0456\\u043a \\u043f\\u043e\\u0440\\u0456\\u0432\\u043d\\u044f\\u043d\\u043e \\u0437 2010 \\u0440\\u043e\\u043a\\u043e\\u043c\", \"transform\": [{\"filter\": {\"selection\": \"selector008\"}}], \"width\": 600}, {\"data\": {\"name\": \"data-781b7feb140dbecc658f5265c828f1b7\"}, \"mark\": \"bar\", \"encoding\": {\"color\": {\"condition\": {\"value\": \"#849cc4\", \"test\": \"(datum.year === '2010')\"}, \"value\": \"#f1aa5e\"}, \"x\": {\"type\": \"nominal\", \"field\": \"year\"}, \"y\": {\"type\": \"quantitative\", \"field\": \"value\"}}, \"height\": 600, \"selection\": {\"selector008\": {\"type\": \"single\", \"fields\": [\"category\"], \"bind\": {\"input\": \"select\", \"options\": [\"\\u0441\\u0456\\u043b\\u044c\\u0433\\u043e\\u0441\\u043f\", \"\\u043f\\u0440\\u043e\\u043c\\u0438\\u0441\\u043b\\u043e\\u0432\\u0456\\u0441\\u0442\\u044c\", \"\\u0431\\u0443\\u0434\\u0456\\u0432\\u043d\\u0438\\u0446\\u0442\\u0432\\u043e\", \"\\u043f\\u043e\\u0441\\u043b\\u0443\\u0433\\u0438\", \"\\u0434\\u0435\\u0440\\u0436\\u0443\\u043f\\u0440\\u0430\\u0432\\u043b\\u0456\\u043d\\u043d\\u044f\"]}}}, \"transform\": [{\"filter\": {\"selection\": \"selector008\"}}], \"width\": 100}], \"$schema\": \"https://vega.github.io/schema/vega-lite/v4.8.1.json\", \"datasets\": {\"data-24f7fcc82950a70cd4cd14c34d39368a\": [{\"year\": \"2010\", \"region\": \"\\u0412\\u0456\\u043d\\u043d\\u0438\\u0446\\u044c\\u043a\\u0430\", \"value\": 19.3, \"category\": \"\\u043f\\u0440\\u043e\\u043c\\u0438\\u0441\\u043b\\u043e\\u0432\\u0456\\u0441\\u0442\\u044c\"}, {\"year\": \"2010\", \"region\": \"\\u0412\\u0456\\u043d\\u043d\\u0438\\u0446\\u044c\\u043a\\u0430\", \"value\": 4.1, \"category\": \"\\u0431\\u0443\\u0434\\u0456\\u0432\\u043d\\u0438\\u0446\\u0442\\u0432\\u043e\"}, {\"year\": \"2010\", \"region\": \"\\u0412\\u0456\\u043d\\u043d\\u0438\\u0446\\u044c\\u043a\\u0430\", \"value\": 47.4, \"category\": \"\\u043f\\u043e\\u0441\\u043b\\u0443\\u0433\\u0438\"}, {\"year\": \"2010\", \"region\": \"\\u0412\\u0456\\u043d\\u043d\\u0438\\u0446\\u044c\\u043a\\u0430\", \"value\": 7.6, \"category\": \"\\u0434\\u0435\\u0440\\u0436\\u0443\\u043f\\u0440\\u0430\\u0432\\u043b\\u0456\\u043d\\u043d\\u044f\"}, {\"year\": \"2017\", \"region\": \"\\u0412\\u0456\\u043d\\u043d\\u0438\\u0446\\u044c\\u043a\\u0430\", \"value\": 28.1, \"category\": \"\\u0441\\u0456\\u043b\\u044c\\u0433\\u043e\\u0441\\u043f\"}, {\"year\": \"2017\", \"region\": \"\\u0412\\u0456\\u043d\\u043d\\u0438\\u0446\\u044c\\u043a\\u0430\", \"value\": 21.4, \"category\": \"\\u043f\\u0440\\u043e\\u043c\\u0438\\u0441\\u043b\\u043e\\u0432\\u0456\\u0441\\u0442\\u044c\"}, {\"year\": \"2017\", \"region\": \"\\u0412\\u0456\\u043d\\u043d\\u0438\\u0446\\u044c\\u043a\\u0430\", \"value\": 2.0, \"category\": \"\\u0431\\u0443\\u0434\\u0456\\u0432\\u043d\\u0438\\u0446\\u0442\\u0432\\u043e\"}, {\"year\": \"2017\", \"region\": \"\\u0412\\u0456\\u043d\\u043d\\u0438\\u0446\\u044c\\u043a\\u0430\", \"value\": 39.8, \"category\": \"\\u043f\\u043e\\u0441\\u043b\\u0443\\u0433\\u0438\"}, {\"year\": \"2017\", \"region\": \"\\u0412\\u0456\\u043d\\u043d\\u0438\\u0446\\u044c\\u043a\\u0430\", \"value\": 8.7, \"category\": \"\\u0434\\u0435\\u0440\\u0436\\u0443\\u043f\\u0440\\u0430\\u0432\\u043b\\u0456\\u043d\\u043d\\u044f\"}, {\"year\": \"2010\", \"region\": \"\\u0412\\u043e\\u043b\\u0438\\u043d\\u0441\\u044c\\u043a\\u0430\", \"value\": 16.9, \"category\": \"\\u0441\\u0456\\u043b\\u044c\\u0433\\u043e\\u0441\\u043f\"}, {\"year\": \"2010\", \"region\": \"\\u0412\\u043e\\u043b\\u0438\\u043d\\u0441\\u044c\\u043a\\u0430\", \"value\": 15.6, \"category\": \"\\u043f\\u0440\\u043e\\u043c\\u0438\\u0441\\u043b\\u043e\\u0432\\u0456\\u0441\\u0442\\u044c\"}, {\"year\": \"2010\", \"region\": \"\\u0412\\u043e\\u043b\\u0438\\u043d\\u0441\\u044c\\u043a\\u0430\", \"value\": 3.2, \"category\": \"\\u0431\\u0443\\u0434\\u0456\\u0432\\u043d\\u0438\\u0446\\u0442\\u0432\\u043e\"}, {\"year\": \"2010\", \"region\": \"\\u0412\\u043e\\u043b\\u0438\\u043d\\u0441\\u044c\\u043a\\u0430\", \"value\": 57.7, \"category\": \"\\u043f\\u043e\\u0441\\u043b\\u0443\\u0433\\u0438\"}, {\"year\": \"2010\", \"region\": \"\\u0412\\u043e\\u043b\\u0438\\u043d\\u0441\\u044c\\u043a\\u0430\", \"value\": 6.6, \"category\": \"\\u0434\\u0435\\u0440\\u0436\\u0443\\u043f\\u0440\\u0430\\u0432\\u043b\\u0456\\u043d\\u043d\\u044f\"}, {\"year\": \"2017\", \"region\": \"\\u0412\\u043e\\u043b\\u0438\\u043d\\u0441\\u044c\\u043a\\u0430\", \"value\": 17.2, \"category\": \"\\u0441\\u0456\\u043b\\u044c\\u0433\\u043e\\u0441\\u043f\"}, {\"year\": \"2017\", \"region\": \"\\u0412\\u043e\\u043b\\u0438\\u043d\\u0441\\u044c\\u043a\\u0430\", \"value\": 15.4, \"category\": \"\\u043f\\u0440\\u043e\\u043c\\u0438\\u0441\\u043b\\u043e\\u0432\\u0456\\u0441\\u0442\\u044c\"}, {\"year\": \"2017\", \"region\": \"\\u0412\\u043e\\u043b\\u0438\\u043d\\u0441\\u044c\\u043a\\u0430\", \"value\": 2.1, \"category\": \"\\u0431\\u0443\\u0434\\u0456\\u0432\\u043d\\u0438\\u0446\\u0442\\u0432\\u043e\"}, {\"year\": \"2017\", \"region\": \"\\u0412\\u043e\\u043b\\u0438\\u043d\\u0441\\u044c\\u043a\\u0430\", \"value\": 57.7, \"category\": \"\\u043f\\u043e\\u0441\\u043b\\u0443\\u0433\\u0438\"}, {\"year\": \"2017\", \"region\": \"\\u0412\\u043e\\u043b\\u0438\\u043d\\u0441\\u044c\\u043a\\u0430\", \"value\": 7.6, \"category\": \"\\u0434\\u0435\\u0440\\u0436\\u0443\\u043f\\u0440\\u0430\\u0432\\u043b\\u0456\\u043d\\u043d\\u044f\"}, {\"year\": \"2010\", \"region\": \"\\u0414\\u043d\\u0456\\u043f\\u0440\\u043e\\u043f\\u0435\\u0442\\u0440\\u043e\\u0432\\u0441\\u044c\\u043a\\u0430\", \"value\": 4.7, \"category\": \"\\u0441\\u0456\\u043b\\u044c\\u0433\\u043e\\u0441\\u043f\"}, {\"year\": \"2010\", \"region\": \"\\u0414\\u043d\\u0456\\u043f\\u0440\\u043e\\u043f\\u0435\\u0442\\u0440\\u043e\\u0432\\u0441\\u044c\\u043a\\u0430\", \"value\": 47.7, \"category\": \"\\u043f\\u0440\\u043e\\u043c\\u0438\\u0441\\u043b\\u043e\\u0432\\u0456\\u0441\\u0442\\u044c\"}, {\"year\": \"2010\", \"region\": \"\\u0414\\u043d\\u0456\\u043f\\u0440\\u043e\\u043f\\u0435\\u0442\\u0440\\u043e\\u0432\\u0441\\u044c\\u043a\\u0430\", \"value\": 1.8, \"category\": \"\\u0431\\u0443\\u0434\\u0456\\u0432\\u043d\\u0438\\u0446\\u0442\\u0432\\u043e\"}, {\"year\": \"2010\", \"region\": \"\\u0414\\u043d\\u0456\\u043f\\u0440\\u043e\\u043f\\u0435\\u0442\\u0440\\u043e\\u0432\\u0441\\u044c\\u043a\\u0430\", \"value\": 43.1, \"category\": \"\\u043f\\u043e\\u0441\\u043b\\u0443\\u0433\\u0438\"}, {\"year\": \"2010\", \"region\": \"\\u0414\\u043d\\u0456\\u043f\\u0440\\u043e\\u043f\\u0435\\u0442\\u0440\\u043e\\u0432\\u0441\\u044c\\u043a\\u0430\", \"value\": 2.7, \"category\": \"\\u0434\\u0435\\u0440\\u0436\\u0443\\u043f\\u0440\\u0430\\u0432\\u043b\\u0456\\u043d\\u043d\\u044f\"}, {\"year\": \"2017\", \"region\": \"\\u0414\\u043d\\u0456\\u043f\\u0440\\u043e\\u043f\\u0435\\u0442\\u0440\\u043e\\u0432\\u0441\\u044c\\u043a\\u0430\", \"value\": 7.3, \"category\": \"\\u0441\\u0456\\u043b\\u044c\\u0433\\u043e\\u0441\\u043f\"}, {\"year\": \"2017\", \"region\": \"\\u0414\\u043d\\u0456\\u043f\\u0440\\u043e\\u043f\\u0435\\u0442\\u0440\\u043e\\u0432\\u0441\\u044c\\u043a\\u0430\", \"value\": 48.2, \"category\": \"\\u043f\\u0440\\u043e\\u043c\\u0438\\u0441\\u043b\\u043e\\u0432\\u0456\\u0441\\u0442\\u044c\"}, {\"year\": \"2017\", \"region\": \"\\u0414\\u043d\\u0456\\u043f\\u0440\\u043e\\u043f\\u0435\\u0442\\u0440\\u043e\\u0432\\u0441\\u044c\\u043a\\u0430\", \"value\": 1.8, \"category\": \"\\u0431\\u0443\\u0434\\u0456\\u0432\\u043d\\u0438\\u0446\\u0442\\u0432\\u043e\"}, {\"year\": \"2017\", \"region\": \"\\u0414\\u043d\\u0456\\u043f\\u0440\\u043e\\u043f\\u0435\\u0442\\u0440\\u043e\\u0432\\u0441\\u044c\\u043a\\u0430\", \"value\": 38.4, \"category\": \"\\u043f\\u043e\\u0441\\u043b\\u0443\\u0433\\u0438\"}, {\"year\": \"2017\", \"region\": \"\\u0414\\u043d\\u0456\\u043f\\u0440\\u043e\\u043f\\u0435\\u0442\\u0440\\u043e\\u0432\\u0441\\u044c\\u043a\\u0430\", \"value\": 4.3, \"category\": \"\\u0434\\u0435\\u0440\\u0436\\u0443\\u043f\\u0440\\u0430\\u0432\\u043b\\u0456\\u043d\\u043d\\u044f\"}, {\"year\": \"2010\", \"region\": \"\\u0414\\u043e\\u043d\\u0435\\u0446\\u044c\\u043a\\u0430\", \"value\": 3.8, \"category\": \"\\u0441\\u0456\\u043b\\u044c\\u0433\\u043e\\u0441\\u043f\"}, {\"year\": \"2010\", \"region\": \"\\u0414\\u043e\\u043d\\u0435\\u0446\\u044c\\u043a\\u0430\", \"value\": 45.8, \"category\": \"\\u043f\\u0440\\u043e\\u043c\\u0438\\u0441\\u043b\\u043e\\u0432\\u0456\\u0441\\u0442\\u044c\"}, {\"year\": \"2010\", \"region\": \"\\u0414\\u043e\\u043d\\u0435\\u0446\\u044c\\u043a\\u0430\", \"value\": 3.3, \"category\": \"\\u0431\\u0443\\u0434\\u0456\\u0432\\u043d\\u0438\\u0446\\u0442\\u0432\\u043e\"}, {\"year\": \"2010\", \"region\": \"\\u0414\\u043e\\u043d\\u0435\\u0446\\u044c\\u043a\\u0430\", \"value\": 44.4, \"category\": \"\\u043f\\u043e\\u0441\\u043b\\u0443\\u0433\\u0438\"}, {\"year\": \"2010\", \"region\": \"\\u0414\\u043e\\u043d\\u0435\\u0446\\u044c\\u043a\\u0430\", \"value\": 2.7, \"category\": \"\\u0434\\u0435\\u0440\\u0436\\u0443\\u043f\\u0440\\u0430\\u0432\\u043b\\u0456\\u043d\\u043d\\u044f\"}, {\"year\": \"2017\", \"region\": \"\\u0414\\u043e\\u043d\\u0435\\u0446\\u044c\\u043a\\u0430\", \"value\": 7.2, \"category\": \"\\u0441\\u0456\\u043b\\u044c\\u0433\\u043e\\u0441\\u043f\"}, {\"year\": \"2017\", \"region\": \"\\u0414\\u043e\\u043d\\u0435\\u0446\\u044c\\u043a\\u0430\", \"value\": 49.9, \"category\": \"\\u043f\\u0440\\u043e\\u043c\\u0438\\u0441\\u043b\\u043e\\u0432\\u0456\\u0441\\u0442\\u044c\"}, {\"year\": \"2017\", \"region\": \"\\u0414\\u043e\\u043d\\u0435\\u0446\\u044c\\u043a\\u0430\", \"value\": 1.7, \"category\": \"\\u0431\\u0443\\u0434\\u0456\\u0432\\u043d\\u0438\\u0446\\u0442\\u0432\\u043e\"}, {\"year\": \"2017\", \"region\": \"\\u0414\\u043e\\u043d\\u0435\\u0446\\u044c\\u043a\\u0430\", \"value\": 35.0, \"category\": \"\\u043f\\u043e\\u0441\\u043b\\u0443\\u0433\\u0438\"}, {\"year\": \"2017\", \"region\": \"\\u0414\\u043e\\u043d\\u0435\\u0446\\u044c\\u043a\\u0430\", \"value\": 6.2, \"category\": \"\\u0434\\u0435\\u0440\\u0436\\u0443\\u043f\\u0440\\u0430\\u0432\\u043b\\u0456\\u043d\\u043d\\u044f\"}, {\"year\": \"2010\", \"region\": \"\\u0416\\u0438\\u0442\\u043e\\u043c\\u0438\\u0440\\u0441\\u044c\\u043a\\u0430\", \"value\": 16.3, \"category\": \"\\u0441\\u0456\\u043b\\u044c\\u0433\\u043e\\u0441\\u043f\"}, {\"year\": \"2010\", \"region\": \"\\u0416\\u0438\\u0442\\u043e\\u043c\\u0438\\u0440\\u0441\\u044c\\u043a\\u0430\", \"value\": 21.5, \"category\": \"\\u043f\\u0440\\u043e\\u043c\\u0438\\u0441\\u043b\\u043e\\u0432\\u0456\\u0441\\u0442\\u044c\"}, {\"year\": \"2010\", \"region\": \"\\u0416\\u0438\\u0442\\u043e\\u043c\\u0438\\u0440\\u0441\\u044c\\u043a\\u0430\", \"value\": 2.9, \"category\": \"\\u0431\\u0443\\u0434\\u0456\\u0432\\u043d\\u0438\\u0446\\u0442\\u0432\\u043e\"}, {\"year\": \"2010\", \"region\": \"\\u0416\\u0438\\u0442\\u043e\\u043c\\u0438\\u0440\\u0441\\u044c\\u043a\\u0430\", \"value\": 50.0, \"category\": \"\\u043f\\u043e\\u0441\\u043b\\u0443\\u0433\\u0438\"}, {\"year\": \"2010\", \"region\": \"\\u0416\\u0438\\u0442\\u043e\\u043c\\u0438\\u0440\\u0441\\u044c\\u043a\\u0430\", \"value\": 9.3, \"category\": \"\\u0434\\u0435\\u0440\\u0436\\u0443\\u043f\\u0440\\u0430\\u0432\\u043b\\u0456\\u043d\\u043d\\u044f\"}, {\"year\": \"2017\", \"region\": \"\\u0416\\u0438\\u0442\\u043e\\u043c\\u0438\\u0440\\u0441\\u044c\\u043a\\u0430\", \"value\": 23.5, \"category\": \"\\u0441\\u0456\\u043b\\u044c\\u0433\\u043e\\u0441\\u043f\"}, {\"year\": \"2017\", \"region\": \"\\u0416\\u0438\\u0442\\u043e\\u043c\\u0438\\u0440\\u0441\\u044c\\u043a\\u0430\", \"value\": 19.0, \"category\": \"\\u043f\\u0440\\u043e\\u043c\\u0438\\u0441\\u043b\\u043e\\u0432\\u0456\\u0441\\u0442\\u044c\"}, {\"year\": \"2017\", \"region\": \"\\u0416\\u0438\\u0442\\u043e\\u043c\\u0438\\u0440\\u0441\\u044c\\u043a\\u0430\", \"value\": 1.5, \"category\": \"\\u0431\\u0443\\u0434\\u0456\\u0432\\u043d\\u0438\\u0446\\u0442\\u0432\\u043e\"}, {\"year\": \"2017\", \"region\": \"\\u0416\\u0438\\u0442\\u043e\\u043c\\u0438\\u0440\\u0441\\u044c\\u043a\\u0430\", \"value\": 43.8, \"category\": \"\\u043f\\u043e\\u0441\\u043b\\u0443\\u0433\\u0438\"}, {\"year\": \"2017\", \"region\": \"\\u0416\\u0438\\u0442\\u043e\\u043c\\u0438\\u0440\\u0441\\u044c\\u043a\\u0430\", \"value\": 12.2, \"category\": \"\\u0434\\u0435\\u0440\\u0436\\u0443\\u043f\\u0440\\u0430\\u0432\\u043b\\u0456\\u043d\\u043d\\u044f\"}, {\"year\": \"2010\", \"region\": \"\\u0417\\u0430\\u043a\\u0430\\u0440\\u043f\\u0430\\u0442\\u0441\\u044c\\u043a\\u0430\", \"value\": 13.4, \"category\": \"\\u0441\\u0456\\u043b\\u044c\\u0433\\u043e\\u0441\\u043f\"}, {\"year\": \"2010\", \"region\": \"\\u0417\\u0430\\u043a\\u0430\\u0440\\u043f\\u0430\\u0442\\u0441\\u044c\\u043a\\u0430\", \"value\": 19.0, \"category\": \"\\u043f\\u0440\\u043e\\u043c\\u0438\\u0441\\u043b\\u043e\\u0432\\u0456\\u0441\\u0442\\u044c\"}, {\"year\": \"2010\", \"region\": \"\\u0417\\u0430\\u043a\\u0430\\u0440\\u043f\\u0430\\u0442\\u0441\\u044c\\u043a\\u0430\", \"value\": 3.8, \"category\": \"\\u0431\\u0443\\u0434\\u0456\\u0432\\u043d\\u0438\\u0446\\u0442\\u0432\\u043e\"}, {\"year\": \"2010\", \"region\": \"\\u0417\\u0430\\u043a\\u0430\\u0440\\u043f\\u0430\\u0442\\u0441\\u044c\\u043a\\u0430\", \"value\": 56.6, \"category\": \"\\u043f\\u043e\\u0441\\u043b\\u0443\\u0433\\u0438\"}, {\"year\": \"2010\", \"region\": \"\\u0417\\u0430\\u043a\\u0430\\u0440\\u043f\\u0430\\u0442\\u0441\\u044c\\u043a\\u0430\", \"value\": 7.2, \"category\": \"\\u0434\\u0435\\u0440\\u0436\\u0443\\u043f\\u0440\\u0430\\u0432\\u043b\\u0456\\u043d\\u043d\\u044f\"}, {\"year\": \"2017\", \"region\": \"\\u0417\\u0430\\u043a\\u0430\\u0440\\u043f\\u0430\\u0442\\u0441\\u044c\\u043a\\u0430\", \"value\": 15.2, \"category\": \"\\u0441\\u0456\\u043b\\u044c\\u0433\\u043e\\u0441\\u043f\"}, {\"year\": \"2017\", \"region\": \"\\u0417\\u0430\\u043a\\u0430\\u0440\\u043f\\u0430\\u0442\\u0441\\u044c\\u043a\\u0430\", \"value\": 15.1, \"category\": \"\\u043f\\u0440\\u043e\\u043c\\u0438\\u0441\\u043b\\u043e\\u0432\\u0456\\u0441\\u0442\\u044c\"}, {\"year\": \"2017\", \"region\": \"\\u0417\\u0430\\u043a\\u0430\\u0440\\u043f\\u0430\\u0442\\u0441\\u044c\\u043a\\u0430\", \"value\": 3.1, \"category\": \"\\u0431\\u0443\\u0434\\u0456\\u0432\\u043d\\u0438\\u0446\\u0442\\u0432\\u043e\"}, {\"year\": \"2017\", \"region\": \"\\u0417\\u0430\\u043a\\u0430\\u0440\\u043f\\u0430\\u0442\\u0441\\u044c\\u043a\\u0430\", \"value\": 57.4, \"category\": \"\\u043f\\u043e\\u0441\\u043b\\u0443\\u0433\\u0438\"}, {\"year\": \"2017\", \"region\": \"\\u0417\\u0430\\u043a\\u0430\\u0440\\u043f\\u0430\\u0442\\u0441\\u044c\\u043a\\u0430\", \"value\": 9.2, \"category\": \"\\u0434\\u0435\\u0440\\u0436\\u0443\\u043f\\u0440\\u0430\\u0432\\u043b\\u0456\\u043d\\u043d\\u044f\"}, {\"year\": \"2010\", \"region\": \"\\u0417\\u0430\\u043f\\u043e\\u0440\\u0456\\u0437\\u044c\\u043a\\u0430\", \"value\": 9.0, \"category\": \"\\u0441\\u0456\\u043b\\u044c\\u0433\\u043e\\u0441\\u043f\"}, {\"year\": \"2010\", \"region\": \"\\u0417\\u0430\\u043f\\u043e\\u0440\\u0456\\u0437\\u044c\\u043a\\u0430\", \"value\": 38.6, \"category\": \"\\u043f\\u0440\\u043e\\u043c\\u0438\\u0441\\u043b\\u043e\\u0432\\u0456\\u0441\\u0442\\u044c\"}, {\"year\": \"2010\", \"region\": \"\\u0417\\u0430\\u043f\\u043e\\u0440\\u0456\\u0437\\u044c\\u043a\\u0430\", \"value\": 2.0, \"category\": \"\\u0431\\u0443\\u0434\\u0456\\u0432\\u043d\\u0438\\u0446\\u0442\\u0432\\u043e\"}, {\"year\": \"2010\", \"region\": \"\\u0417\\u0430\\u043f\\u043e\\u0440\\u0456\\u0437\\u044c\\u043a\\u0430\", \"value\": 45.7, \"category\": \"\\u043f\\u043e\\u0441\\u043b\\u0443\\u0433\\u0438\"}, {\"year\": \"2010\", \"region\": \"\\u0417\\u0430\\u043f\\u043e\\u0440\\u0456\\u0437\\u044c\\u043a\\u0430\", \"value\": 4.7, \"category\": \"\\u0434\\u0435\\u0440\\u0436\\u0443\\u043f\\u0440\\u0430\\u0432\\u043b\\u0456\\u043d\\u043d\\u044f\"}, {\"year\": \"2017\", \"region\": \"\\u0417\\u0430\\u043f\\u043e\\u0440\\u0456\\u0437\\u044c\\u043a\\u0430\", \"value\": 12.0, \"category\": \"\\u0441\\u0456\\u043b\\u044c\\u0433\\u043e\\u0441\\u043f\"}, {\"year\": \"2017\", \"region\": \"\\u0417\\u0430\\u043f\\u043e\\u0440\\u0456\\u0437\\u044c\\u043a\\u0430\", \"value\": 42.4, \"category\": \"\\u043f\\u0440\\u043e\\u043c\\u0438\\u0441\\u043b\\u043e\\u0432\\u0456\\u0441\\u0442\\u044c\"}, {\"year\": \"2017\", \"region\": \"\\u0417\\u0430\\u043f\\u043e\\u0440\\u0456\\u0437\\u044c\\u043a\\u0430\", \"value\": 1.2, \"category\": \"\\u0431\\u0443\\u0434\\u0456\\u0432\\u043d\\u0438\\u0446\\u0442\\u0432\\u043e\"}, {\"year\": \"2017\", \"region\": \"\\u0417\\u0430\\u043f\\u043e\\u0440\\u0456\\u0437\\u044c\\u043a\\u0430\", \"value\": 38.7, \"category\": \"\\u043f\\u043e\\u0441\\u043b\\u0443\\u0433\\u0438\"}, {\"year\": \"2017\", \"region\": \"\\u0417\\u0430\\u043f\\u043e\\u0440\\u0456\\u0437\\u044c\\u043a\\u0430\", \"value\": 5.7, \"category\": \"\\u0434\\u0435\\u0440\\u0436\\u0443\\u043f\\u0440\\u0430\\u0432\\u043b\\u0456\\u043d\\u043d\\u044f\"}, {\"year\": \"2010\", \"region\": \"\\u0406\\u0432\\u0430\\u043d\\u043e-\\u0424\\u0440\\u0430\\u043d\\u043a\\u0456\\u0432\\u0441\\u044c\\u043a\\u0430\", \"value\": 12.7, \"category\": \"\\u0441\\u0456\\u043b\\u044c\\u0433\\u043e\\u0441\\u043f\"}, {\"year\": \"2010\", \"region\": \"\\u0406\\u0432\\u0430\\u043d\\u043e-\\u0424\\u0440\\u0430\\u043d\\u043a\\u0456\\u0432\\u0441\\u044c\\u043a\\u0430\", \"value\": 24.1, \"category\": \"\\u043f\\u0440\\u043e\\u043c\\u0438\\u0441\\u043b\\u043e\\u0432\\u0456\\u0441\\u0442\\u044c\"}, {\"year\": \"2010\", \"region\": \"\\u0406\\u0432\\u0430\\u043d\\u043e-\\u0424\\u0440\\u0430\\u043d\\u043a\\u0456\\u0432\\u0441\\u044c\\u043a\\u0430\", \"value\": 4.3, \"category\": \"\\u0431\\u0443\\u0434\\u0456\\u0432\\u043d\\u0438\\u0446\\u0442\\u0432\\u043e\"}, {\"year\": \"2010\", \"region\": \"\\u0406\\u0432\\u0430\\u043d\\u043e-\\u0424\\u0440\\u0430\\u043d\\u043a\\u0456\\u0432\\u0441\\u044c\\u043a\\u0430\", \"value\": 52.7, \"category\": \"\\u043f\\u043e\\u0441\\u043b\\u0443\\u0433\\u0438\"}, {\"year\": \"2010\", \"region\": \"\\u0406\\u0432\\u0430\\u043d\\u043e-\\u0424\\u0440\\u0430\\u043d\\u043a\\u0456\\u0432\\u0441\\u044c\\u043a\\u0430\", \"value\": 6.2, \"category\": \"\\u0434\\u0435\\u0440\\u0436\\u0443\\u043f\\u0440\\u0430\\u0432\\u043b\\u0456\\u043d\\u043d\\u044f\"}, {\"year\": \"2017\", \"region\": \"\\u0406\\u0432\\u0430\\u043d\\u043e-\\u0424\\u0440\\u0430\\u043d\\u043a\\u0456\\u0432\\u0441\\u044c\\u043a\\u0430\", \"value\": 14.4, \"category\": \"\\u0441\\u0456\\u043b\\u044c\\u0433\\u043e\\u0441\\u043f\"}, {\"year\": \"2017\", \"region\": \"\\u0406\\u0432\\u0430\\u043d\\u043e-\\u0424\\u0440\\u0430\\u043d\\u043a\\u0456\\u0432\\u0441\\u044c\\u043a\\u0430\", \"value\": 28.0, \"category\": \"\\u043f\\u0440\\u043e\\u043c\\u0438\\u0441\\u043b\\u043e\\u0432\\u0456\\u0441\\u0442\\u044c\"}, {\"year\": \"2017\", \"region\": \"\\u0406\\u0432\\u0430\\u043d\\u043e-\\u0424\\u0440\\u0430\\u043d\\u043a\\u0456\\u0432\\u0441\\u044c\\u043a\\u0430\", \"value\": 4.5, \"category\": \"\\u0431\\u0443\\u0434\\u0456\\u0432\\u043d\\u0438\\u0446\\u0442\\u0432\\u043e\"}, {\"year\": \"2017\", \"region\": \"\\u0406\\u0432\\u0430\\u043d\\u043e-\\u0424\\u0440\\u0430\\u043d\\u043a\\u0456\\u0432\\u0441\\u044c\\u043a\\u0430\", \"value\": 46.7, \"category\": \"\\u043f\\u043e\\u0441\\u043b\\u0443\\u0433\\u0438\"}, {\"year\": \"2017\", \"region\": \"\\u0406\\u0432\\u0430\\u043d\\u043e-\\u0424\\u0440\\u0430\\u043d\\u043a\\u0456\\u0432\\u0441\\u044c\\u043a\\u0430\", \"value\": 6.4, \"category\": \"\\u0434\\u0435\\u0440\\u0436\\u0443\\u043f\\u0440\\u0430\\u0432\\u043b\\u0456\\u043d\\u043d\\u044f\"}, {\"year\": \"2010\", \"region\": \"\\u041a\\u0438\\u0457\\u0432\\u0441\\u044c\\u043a\\u0430\", \"value\": 13.5, \"category\": \"\\u0441\\u0456\\u043b\\u044c\\u0433\\u043e\\u0441\\u043f\"}, {\"year\": \"2010\", \"region\": \"\\u041a\\u0438\\u0457\\u0432\\u0441\\u044c\\u043a\\u0430\", \"value\": 18.2, \"category\": \"\\u043f\\u0440\\u043e\\u043c\\u0438\\u0441\\u043b\\u043e\\u0432\\u0456\\u0441\\u0442\\u044c\"}, {\"year\": \"2010\", \"region\": \"\\u041a\\u0438\\u0457\\u0432\\u0441\\u044c\\u043a\\u0430\", \"value\": 5.0, \"category\": \"\\u0431\\u0443\\u0434\\u0456\\u0432\\u043d\\u0438\\u0446\\u0442\\u0432\\u043e\"}, {\"year\": \"2010\", \"region\": \"\\u041a\\u0438\\u0457\\u0432\\u0441\\u044c\\u043a\\u0430\", \"value\": 56.0, \"category\": \"\\u043f\\u043e\\u0441\\u043b\\u0443\\u0433\\u0438\"}, {\"year\": \"2010\", \"region\": \"\\u041a\\u0438\\u0457\\u0432\\u0441\\u044c\\u043a\\u0430\", \"value\": 7.3, \"category\": \"\\u0434\\u0435\\u0440\\u0436\\u0443\\u043f\\u0440\\u0430\\u0432\\u043b\\u0456\\u043d\\u043d\\u044f\"}, {\"year\": \"2017\", \"region\": \"\\u041a\\u0438\\u0457\\u0432\\u0441\\u044c\\u043a\\u0430\", \"value\": 14.3, \"category\": \"\\u0441\\u0456\\u043b\\u044c\\u0433\\u043e\\u0441\\u043f\"}, {\"year\": \"2017\", \"region\": \"\\u041a\\u0438\\u0457\\u0432\\u0441\\u044c\\u043a\\u0430\", \"value\": 21.5, \"category\": \"\\u043f\\u0440\\u043e\\u043c\\u0438\\u0441\\u043b\\u043e\\u0432\\u0456\\u0441\\u0442\\u044c\"}, {\"year\": \"2017\", \"region\": \"\\u041a\\u0438\\u0457\\u0432\\u0441\\u044c\\u043a\\u0430\", \"value\": 4.2, \"category\": \"\\u0431\\u0443\\u0434\\u0456\\u0432\\u043d\\u0438\\u0446\\u0442\\u0432\\u043e\"}, {\"year\": \"2017\", \"region\": \"\\u041a\\u0438\\u0457\\u0432\\u0441\\u044c\\u043a\\u0430\", \"value\": 48.7, \"category\": \"\\u043f\\u043e\\u0441\\u043b\\u0443\\u0433\\u0438\"}, {\"year\": \"2017\", \"region\": \"\\u041a\\u0438\\u0457\\u0432\\u0441\\u044c\\u043a\\u0430\", \"value\": 11.3, \"category\": \"\\u0434\\u0435\\u0440\\u0436\\u0443\\u043f\\u0440\\u0430\\u0432\\u043b\\u0456\\u043d\\u043d\\u044f\"}, {\"year\": \"2010\", \"region\": \"\\u041a\\u0456\\u0440\\u043e\\u0432\\u043e\\u0433\\u0440\\u0430\\u0434\\u0441\\u044c\\u043a\\u0430\", \"value\": 19.8, \"category\": \"\\u0441\\u0456\\u043b\\u044c\\u0433\\u043e\\u0441\\u043f\"}, {\"year\": \"2010\", \"region\": \"\\u041a\\u0456\\u0440\\u043e\\u0432\\u043e\\u0433\\u0440\\u0430\\u0434\\u0441\\u044c\\u043a\\u0430\", \"value\": 22.8, \"category\": \"\\u043f\\u0440\\u043e\\u043c\\u0438\\u0441\\u043b\\u043e\\u0432\\u0456\\u0441\\u0442\\u044c\"}, {\"year\": \"2010\", \"region\": \"\\u041a\\u0456\\u0440\\u043e\\u0432\\u043e\\u0433\\u0440\\u0430\\u0434\\u0441\\u044c\\u043a\\u0430\", \"value\": 2.3, \"category\": \"\\u0431\\u0443\\u0434\\u0456\\u0432\\u043d\\u0438\\u0446\\u0442\\u0432\\u043e\"}, {\"year\": \"2010\", \"region\": \"\\u041a\\u0456\\u0440\\u043e\\u0432\\u043e\\u0433\\u0440\\u0430\\u0434\\u0441\\u044c\\u043a\\u0430\", \"value\": 47.5, \"category\": \"\\u043f\\u043e\\u0441\\u043b\\u0443\\u0433\\u0438\"}, {\"year\": \"2010\", \"region\": \"\\u041a\\u0456\\u0440\\u043e\\u0432\\u043e\\u0433\\u0440\\u0430\\u0434\\u0441\\u044c\\u043a\\u0430\", \"value\": 7.6, \"category\": \"\\u0434\\u0435\\u0440\\u0436\\u0443\\u043f\\u0440\\u0430\\u0432\\u043b\\u0456\\u043d\\u043d\\u044f\"}, {\"year\": \"2017\", \"region\": \"\\u041a\\u0456\\u0440\\u043e\\u0432\\u043e\\u0433\\u0440\\u0430\\u0434\\u0441\\u044c\\u043a\\u0430\", \"value\": 31.3, \"category\": \"\\u0441\\u0456\\u043b\\u044c\\u0433\\u043e\\u0441\\u043f\"}, {\"year\": \"2017\", \"region\": \"\\u041a\\u0456\\u0440\\u043e\\u0432\\u043e\\u0433\\u0440\\u0430\\u0434\\u0441\\u044c\\u043a\\u0430\", \"value\": 19.1, \"category\": \"\\u043f\\u0440\\u043e\\u043c\\u0438\\u0441\\u043b\\u043e\\u0432\\u0456\\u0441\\u0442\\u044c\"}, {\"year\": \"2017\", \"region\": \"\\u041a\\u0456\\u0440\\u043e\\u0432\\u043e\\u0433\\u0440\\u0430\\u0434\\u0441\\u044c\\u043a\\u0430\", \"value\": 1.2, \"category\": \"\\u0431\\u0443\\u0434\\u0456\\u0432\\u043d\\u0438\\u0446\\u0442\\u0432\\u043e\"}, {\"year\": \"2017\", \"region\": \"\\u041a\\u0456\\u0440\\u043e\\u0432\\u043e\\u0433\\u0440\\u0430\\u0434\\u0441\\u044c\\u043a\\u0430\", \"value\": 39.5, \"category\": \"\\u043f\\u043e\\u0441\\u043b\\u0443\\u0433\\u0438\"}, {\"year\": \"2017\", \"region\": \"\\u041a\\u0456\\u0440\\u043e\\u0432\\u043e\\u0433\\u0440\\u0430\\u0434\\u0441\\u044c\\u043a\\u0430\", \"value\": 8.9, \"category\": \"\\u0434\\u0435\\u0440\\u0436\\u0443\\u043f\\u0440\\u0430\\u0432\\u043b\\u0456\\u043d\\u043d\\u044f\"}, {\"year\": \"2010\", \"region\": \"\\u041b\\u0443\\u0433\\u0430\\u043d\\u0441\\u044c\\u043a\\u0430\", \"value\": 5.0, \"category\": \"\\u0441\\u0456\\u043b\\u044c\\u0433\\u043e\\u0441\\u043f\"}, {\"year\": \"2010\", \"region\": \"\\u041b\\u0443\\u0433\\u0430\\u043d\\u0441\\u044c\\u043a\\u0430\", \"value\": 51.0, \"category\": \"\\u043f\\u0440\\u043e\\u043c\\u0438\\u0441\\u043b\\u043e\\u0432\\u0456\\u0441\\u0442\\u044c\"}, {\"year\": \"2010\", \"region\": \"\\u041b\\u0443\\u0433\\u0430\\u043d\\u0441\\u044c\\u043a\\u0430\", \"value\": 1.7, \"category\": \"\\u0431\\u0443\\u0434\\u0456\\u0432\\u043d\\u0438\\u0446\\u0442\\u0432\\u043e\"}, {\"year\": \"2010\", \"region\": \"\\u041b\\u0443\\u0433\\u0430\\u043d\\u0441\\u044c\\u043a\\u0430\", \"value\": 37.3, \"category\": \"\\u043f\\u043e\\u0441\\u043b\\u0443\\u0433\\u0438\"}, {\"year\": \"2010\", \"region\": \"\\u041b\\u0443\\u0433\\u0430\\u043d\\u0441\\u044c\\u043a\\u0430\", \"value\": 5.0, \"category\": \"\\u0434\\u0435\\u0440\\u0436\\u0443\\u043f\\u0440\\u0430\\u0432\\u043b\\u0456\\u043d\\u043d\\u044f\"}, {\"year\": \"2017\", \"region\": \"\\u041b\\u0443\\u0433\\u0430\\u043d\\u0441\\u044c\\u043a\\u0430\", \"value\": 21.3, \"category\": \"\\u0441\\u0456\\u043b\\u044c\\u0433\\u043e\\u0441\\u043f\"}, {\"year\": \"2017\", \"region\": \"\\u041b\\u0443\\u0433\\u0430\\u043d\\u0441\\u044c\\u043a\\u0430\", \"value\": 23.1, \"category\": \"\\u043f\\u0440\\u043e\\u043c\\u0438\\u0441\\u043b\\u043e\\u0432\\u0456\\u0441\\u0442\\u044c\"}, {\"year\": \"2017\", \"region\": \"\\u041b\\u0443\\u0433\\u0430\\u043d\\u0441\\u044c\\u043a\\u0430\", \"value\": 1.0, \"category\": \"\\u0431\\u0443\\u0434\\u0456\\u0432\\u043d\\u0438\\u0446\\u0442\\u0432\\u043e\"}, {\"year\": \"2017\", \"region\": \"\\u041b\\u0443\\u0433\\u0430\\u043d\\u0441\\u044c\\u043a\\u0430\", \"value\": 39.1, \"category\": \"\\u043f\\u043e\\u0441\\u043b\\u0443\\u0433\\u0438\"}, {\"year\": \"2017\", \"region\": \"\\u041b\\u0443\\u0433\\u0430\\u043d\\u0441\\u044c\\u043a\\u0430\", \"value\": 15.5, \"category\": \"\\u0434\\u0435\\u0440\\u0436\\u0443\\u043f\\u0440\\u0430\\u0432\\u043b\\u0456\\u043d\\u043d\\u044f\"}, {\"year\": \"2010\", \"region\": \"\\u041b\\u044c\\u0432\\u0456\\u0432\\u0441\\u044c\\u043a\\u0430\", \"value\": 9.6, \"category\": \"\\u0441\\u0456\\u043b\\u044c\\u0433\\u043e\\u0441\\u043f\"}, {\"year\": \"2010\", \"region\": \"\\u041b\\u044c\\u0432\\u0456\\u0432\\u0441\\u044c\\u043a\\u0430\", \"value\": 17.4, \"category\": \"\\u043f\\u0440\\u043e\\u043c\\u0438\\u0441\\u043b\\u043e\\u0432\\u0456\\u0441\\u0442\\u044c\"}, {\"year\": \"2010\", \"region\": \"\\u041b\\u044c\\u0432\\u0456\\u0432\\u0441\\u044c\\u043a\\u0430\", \"value\": 4.0, \"category\": \"\\u0431\\u0443\\u0434\\u0456\\u0432\\u043d\\u0438\\u0446\\u0442\\u0432\\u043e\"}, {\"year\": \"2010\", \"region\": \"\\u041b\\u044c\\u0432\\u0456\\u0432\\u0441\\u044c\\u043a\\u0430\", \"value\": 61.4, \"category\": \"\\u043f\\u043e\\u0441\\u043b\\u0443\\u0433\\u0438\"}, {\"year\": \"2010\", \"region\": \"\\u041b\\u044c\\u0432\\u0456\\u0432\\u0441\\u044c\\u043a\\u0430\", \"value\": 7.6, \"category\": \"\\u0434\\u0435\\u0440\\u0436\\u0443\\u043f\\u0440\\u0430\\u0432\\u043b\\u0456\\u043d\\u043d\\u044f\"}, {\"year\": \"2017\", \"region\": \"\\u041b\\u044c\\u0432\\u0456\\u0432\\u0441\\u044c\\u043a\\u0430\", \"value\": 9.6, \"category\": \"\\u0441\\u0456\\u043b\\u044c\\u0433\\u043e\\u0441\\u043f\"}, {\"year\": \"2017\", \"region\": \"\\u041b\\u044c\\u0432\\u0456\\u0432\\u0441\\u044c\\u043a\\u0430\", \"value\": 22.9, \"category\": \"\\u043f\\u0440\\u043e\\u043c\\u0438\\u0441\\u043b\\u043e\\u0432\\u0456\\u0441\\u0442\\u044c\"}, {\"year\": \"2017\", \"region\": \"\\u041b\\u044c\\u0432\\u0456\\u0432\\u0441\\u044c\\u043a\\u0430\", \"value\": 2.7, \"category\": \"\\u0431\\u0443\\u0434\\u0456\\u0432\\u043d\\u0438\\u0446\\u0442\\u0432\\u043e\"}, {\"year\": \"2017\", \"region\": \"\\u041b\\u044c\\u0432\\u0456\\u0432\\u0441\\u044c\\u043a\\u0430\", \"value\": 57.1, \"category\": \"\\u043f\\u043e\\u0441\\u043b\\u0443\\u0433\\u0438\"}, {\"year\": \"2017\", \"region\": \"\\u041b\\u044c\\u0432\\u0456\\u0432\\u0441\\u044c\\u043a\\u0430\", \"value\": 7.7, \"category\": \"\\u0434\\u0435\\u0440\\u0436\\u0443\\u043f\\u0440\\u0430\\u0432\\u043b\\u0456\\u043d\\u043d\\u044f\"}, {\"year\": \"2010\", \"region\": \"\\u041c\\u0438\\u043a\\u043e\\u043b\\u0430\\u0457\\u0432\\u0441\\u044c\\u043a\\u0430\", \"value\": 15.9, \"category\": \"\\u0441\\u0456\\u043b\\u044c\\u0433\\u043e\\u0441\\u043f\"}, {\"year\": \"2010\", \"region\": \"\\u041c\\u0438\\u043a\\u043e\\u043b\\u0430\\u0457\\u0432\\u0441\\u044c\\u043a\\u0430\", \"value\": 22.8, \"category\": \"\\u043f\\u0440\\u043e\\u043c\\u0438\\u0441\\u043b\\u043e\\u0432\\u0456\\u0441\\u0442\\u044c\"}, {\"year\": \"2010\", \"region\": \"\\u041c\\u0438\\u043a\\u043e\\u043b\\u0430\\u0457\\u0432\\u0441\\u044c\\u043a\\u0430\", \"value\": 3.3, \"category\": \"\\u0431\\u0443\\u0434\\u0456\\u0432\\u043d\\u0438\\u0446\\u0442\\u0432\\u043e\"}, {\"year\": \"2010\", \"region\": \"\\u041c\\u0438\\u043a\\u043e\\u043b\\u0430\\u0457\\u0432\\u0441\\u044c\\u043a\\u0430\", \"value\": 52.2, \"category\": \"\\u043f\\u043e\\u0441\\u043b\\u0443\\u0433\\u0438\"}, {\"year\": \"2010\", \"region\": \"\\u041c\\u0438\\u043a\\u043e\\u043b\\u0430\\u0457\\u0432\\u0441\\u044c\\u043a\\u0430\", \"value\": 5.8, \"category\": \"\\u0434\\u0435\\u0440\\u0436\\u0443\\u043f\\u0440\\u0430\\u0432\\u043b\\u0456\\u043d\\u043d\\u044f\"}, {\"year\": \"2017\", \"region\": \"\\u041c\\u0438\\u043a\\u043e\\u043b\\u0430\\u0457\\u0432\\u0441\\u044c\\u043a\\u0430\", \"value\": 21.9, \"category\": \"\\u0441\\u0456\\u043b\\u044c\\u0433\\u043e\\u0441\\u043f\"}, {\"year\": \"2017\", \"region\": \"\\u041c\\u0438\\u043a\\u043e\\u043b\\u0430\\u0457\\u0432\\u0441\\u044c\\u043a\\u0430\", \"value\": 21.1, \"category\": \"\\u043f\\u0440\\u043e\\u043c\\u0438\\u0441\\u043b\\u043e\\u0432\\u0456\\u0441\\u0442\\u044c\"}, {\"year\": \"2017\", \"region\": \"\\u041c\\u0438\\u043a\\u043e\\u043b\\u0430\\u0457\\u0432\\u0441\\u044c\\u043a\\u0430\", \"value\": 1.6, \"category\": \"\\u0431\\u0443\\u0434\\u0456\\u0432\\u043d\\u0438\\u0446\\u0442\\u0432\\u043e\"}, {\"year\": \"2017\", \"region\": \"\\u041c\\u0438\\u043a\\u043e\\u043b\\u0430\\u0457\\u0432\\u0441\\u044c\\u043a\\u0430\", \"value\": 45.4, \"category\": \"\\u043f\\u043e\\u0441\\u043b\\u0443\\u0433\\u0438\"}, {\"year\": \"2017\", \"region\": \"\\u041c\\u0438\\u043a\\u043e\\u043b\\u0430\\u0457\\u0432\\u0441\\u044c\\u043a\\u0430\", \"value\": 10.0, \"category\": \"\\u0434\\u0435\\u0440\\u0436\\u0443\\u043f\\u0440\\u0430\\u0432\\u043b\\u0456\\u043d\\u043d\\u044f\"}, {\"year\": \"2010\", \"region\": \"\\u041e\\u0434\\u0435\\u0441\\u044c\\u043a\\u0430\", \"value\": 7.7, \"category\": \"\\u0441\\u0456\\u043b\\u044c\\u0433\\u043e\\u0441\\u043f\"}, {\"year\": \"2010\", \"region\": \"\\u041e\\u0434\\u0435\\u0441\\u044c\\u043a\\u0430\", \"value\": 14.8, \"category\": \"\\u043f\\u0440\\u043e\\u043c\\u0438\\u0441\\u043b\\u043e\\u0432\\u0456\\u0441\\u0442\\u044c\"}, {\"year\": \"2010\", \"region\": \"\\u041e\\u0434\\u0435\\u0441\\u044c\\u043a\\u0430\", \"value\": 3.1, \"category\": \"\\u0431\\u0443\\u0434\\u0456\\u0432\\u043d\\u0438\\u0446\\u0442\\u0432\\u043e\"}, {\"year\": \"2010\", \"region\": \"\\u041e\\u0434\\u0435\\u0441\\u044c\\u043a\\u0430\", \"value\": 68.5, \"category\": \"\\u043f\\u043e\\u0441\\u043b\\u0443\\u0433\\u0438\"}, {\"year\": \"2010\", \"region\": \"\\u041e\\u0434\\u0435\\u0441\\u044c\\u043a\\u0430\", \"value\": 5.9, \"category\": \"\\u0434\\u0435\\u0440\\u0436\\u0443\\u043f\\u0440\\u0430\\u0432\\u043b\\u0456\\u043d\\u043d\\u044f\"}, {\"year\": \"2017\", \"region\": \"\\u041e\\u0434\\u0435\\u0441\\u044c\\u043a\\u0430\", \"value\": 11.5, \"category\": \"\\u0441\\u0456\\u043b\\u044c\\u0433\\u043e\\u0441\\u043f\"}, {\"year\": \"2017\", \"region\": \"\\u041e\\u0434\\u0435\\u0441\\u044c\\u043a\\u0430\", \"value\": 12.5, \"category\": \"\\u043f\\u0440\\u043e\\u043c\\u0438\\u0441\\u043b\\u043e\\u0432\\u0456\\u0441\\u0442\\u044c\"}, {\"year\": \"2017\", \"region\": \"\\u041e\\u0434\\u0435\\u0441\\u044c\\u043a\\u0430\", \"value\": 4.6, \"category\": \"\\u0431\\u0443\\u0434\\u0456\\u0432\\u043d\\u0438\\u0446\\u0442\\u0432\\u043e\"}, {\"year\": \"2017\", \"region\": \"\\u041e\\u0434\\u0435\\u0441\\u044c\\u043a\\u0430\", \"value\": 63.8, \"category\": \"\\u043f\\u043e\\u0441\\u043b\\u0443\\u0433\\u0438\"}, {\"year\": \"2017\", \"region\": \"\\u041e\\u0434\\u0435\\u0441\\u044c\\u043a\\u0430\", \"value\": 7.6, \"category\": \"\\u0434\\u0435\\u0440\\u0436\\u0443\\u043f\\u0440\\u0430\\u0432\\u043b\\u0456\\u043d\\u043d\\u044f\"}, {\"year\": \"2010\", \"region\": \"\\u041f\\u043e\\u043b\\u0442\\u0430\\u0432\\u0441\\u044c\\u043a\\u0430\", \"value\": 12.9, \"category\": \"\\u0441\\u0456\\u043b\\u044c\\u0433\\u043e\\u0441\\u043f\"}, {\"year\": \"2010\", \"region\": \"\\u041f\\u043e\\u043b\\u0442\\u0430\\u0432\\u0441\\u044c\\u043a\\u0430\", \"value\": 42.4, \"category\": \"\\u043f\\u0440\\u043e\\u043c\\u0438\\u0441\\u043b\\u043e\\u0432\\u0456\\u0441\\u0442\\u044c\"}, {\"year\": \"2010\", \"region\": \"\\u041f\\u043e\\u043b\\u0442\\u0430\\u0432\\u0441\\u044c\\u043a\\u0430\", \"value\": 2.7, \"category\": \"\\u0431\\u0443\\u0434\\u0456\\u0432\\u043d\\u0438\\u0446\\u0442\\u0432\\u043e\"}, {\"year\": \"2010\", \"region\": \"\\u041f\\u043e\\u043b\\u0442\\u0430\\u0432\\u0441\\u044c\\u043a\\u0430\", \"value\": 38.1, \"category\": \"\\u043f\\u043e\\u0441\\u043b\\u0443\\u0433\\u0438\"}, {\"year\": \"2010\", \"region\": \"\\u041f\\u043e\\u043b\\u0442\\u0430\\u0432\\u0441\\u044c\\u043a\\u0430\", \"value\": 3.9, \"category\": \"\\u0434\\u0435\\u0440\\u0436\\u0443\\u043f\\u0440\\u0430\\u0432\\u043b\\u0456\\u043d\\u043d\\u044f\"}, {\"year\": \"2017\", \"region\": \"\\u041f\\u043e\\u043b\\u0442\\u0430\\u0432\\u0441\\u044c\\u043a\\u0430\", \"value\": 14.3, \"category\": \"\\u0441\\u0456\\u043b\\u044c\\u0433\\u043e\\u0441\\u043f\"}, {\"year\": \"2017\", \"region\": \"\\u041f\\u043e\\u043b\\u0442\\u0430\\u0432\\u0441\\u044c\\u043a\\u0430\", \"value\": 54.1, \"category\": \"\\u043f\\u0440\\u043e\\u043c\\u0438\\u0441\\u043b\\u043e\\u0432\\u0456\\u0441\\u0442\\u044c\"}, {\"year\": \"2017\", \"region\": \"\\u041f\\u043e\\u043b\\u0442\\u0430\\u0432\\u0441\\u044c\\u043a\\u0430\", \"value\": 1.4, \"category\": \"\\u0431\\u0443\\u0434\\u0456\\u0432\\u043d\\u0438\\u0446\\u0442\\u0432\\u043e\"}, {\"year\": \"2017\", \"region\": \"\\u041f\\u043e\\u043b\\u0442\\u0430\\u0432\\u0441\\u044c\\u043a\\u0430\", \"value\": 26.1, \"category\": \"\\u043f\\u043e\\u0441\\u043b\\u0443\\u0433\\u0438\"}, {\"year\": \"2017\", \"region\": \"\\u041f\\u043e\\u043b\\u0442\\u0430\\u0432\\u0441\\u044c\\u043a\\u0430\", \"value\": 4.1, \"category\": \"\\u0434\\u0435\\u0440\\u0436\\u0443\\u043f\\u0440\\u0430\\u0432\\u043b\\u0456\\u043d\\u043d\\u044f\"}, {\"year\": \"2010\", \"region\": \"\\u0420\\u0456\\u0432\\u043d\\u0435\\u043d\\u0441\\u044c\\u043a\\u0430\", \"value\": 15.9, \"category\": \"\\u0441\\u0456\\u043b\\u044c\\u0433\\u043e\\u0441\\u043f\"}, {\"year\": \"2010\", \"region\": \"\\u0420\\u0456\\u0432\\u043d\\u0435\\u043d\\u0441\\u044c\\u043a\\u0430\", \"value\": 26.5, \"category\": \"\\u043f\\u0440\\u043e\\u043c\\u0438\\u0441\\u043b\\u043e\\u0432\\u0456\\u0441\\u0442\\u044c\"}, {\"year\": \"2010\", \"region\": \"\\u0420\\u0456\\u0432\\u043d\\u0435\\u043d\\u0441\\u044c\\u043a\\u0430\", \"value\": 4.4, \"category\": \"\\u0431\\u0443\\u0434\\u0456\\u0432\\u043d\\u0438\\u0446\\u0442\\u0432\\u043e\"}, {\"year\": \"2010\", \"region\": \"\\u0420\\u0456\\u0432\\u043d\\u0435\\u043d\\u0441\\u044c\\u043a\\u0430\", \"value\": 46.8, \"category\": \"\\u043f\\u043e\\u0441\\u043b\\u0443\\u0433\\u0438\"}, {\"year\": \"2010\", \"region\": \"\\u0420\\u0456\\u0432\\u043d\\u0435\\u043d\\u0441\\u044c\\u043a\\u0430\", \"value\": 6.4, \"category\": \"\\u0434\\u0435\\u0440\\u0436\\u0443\\u043f\\u0440\\u0430\\u0432\\u043b\\u0456\\u043d\\u043d\\u044f\"}, {\"year\": \"2017\", \"region\": \"\\u0420\\u0456\\u0432\\u043d\\u0435\\u043d\\u0441\\u044c\\u043a\\u0430\", \"value\": 19.9, \"category\": \"\\u0441\\u0456\\u043b\\u044c\\u0433\\u043e\\u0441\\u043f\"}, {\"year\": \"2017\", \"region\": \"\\u0420\\u0456\\u0432\\u043d\\u0435\\u043d\\u0441\\u044c\\u043a\\u0430\", \"value\": 24.5, \"category\": \"\\u043f\\u0440\\u043e\\u043c\\u0438\\u0441\\u043b\\u043e\\u0432\\u0456\\u0441\\u0442\\u044c\"}, {\"year\": \"2017\", \"region\": \"\\u0420\\u0456\\u0432\\u043d\\u0435\\u043d\\u0441\\u044c\\u043a\\u0430\", \"value\": 2.4, \"category\": \"\\u0431\\u0443\\u0434\\u0456\\u0432\\u043d\\u0438\\u0446\\u0442\\u0432\\u043e\"}, {\"year\": \"2017\", \"region\": \"\\u0420\\u0456\\u0432\\u043d\\u0435\\u043d\\u0441\\u044c\\u043a\\u0430\", \"value\": 44.8, \"category\": \"\\u043f\\u043e\\u0441\\u043b\\u0443\\u0433\\u0438\"}, {\"year\": \"2017\", \"region\": \"\\u0420\\u0456\\u0432\\u043d\\u0435\\u043d\\u0441\\u044c\\u043a\\u0430\", \"value\": 8.4, \"category\": \"\\u0434\\u0435\\u0440\\u0436\\u0443\\u043f\\u0440\\u0430\\u0432\\u043b\\u0456\\u043d\\u043d\\u044f\"}, {\"year\": \"2010\", \"region\": \"\\u0421\\u0443\\u043c\\u0441\\u044c\\u043a\\u0430\", \"value\": 13.5, \"category\": \"\\u0441\\u0456\\u043b\\u044c\\u0433\\u043e\\u0441\\u043f\"}, {\"year\": \"2010\", \"region\": \"\\u0421\\u0443\\u043c\\u0441\\u044c\\u043a\\u0430\", \"value\": 31.8, \"category\": \"\\u043f\\u0440\\u043e\\u043c\\u0438\\u0441\\u043b\\u043e\\u0432\\u0456\\u0441\\u0442\\u044c\"}, {\"year\": \"2010\", \"region\": \"\\u0421\\u0443\\u043c\\u0441\\u044c\\u043a\\u0430\", \"value\": 2.1, \"category\": \"\\u0431\\u0443\\u0434\\u0456\\u0432\\u043d\\u0438\\u0446\\u0442\\u0432\\u043e\"}, {\"year\": \"2010\", \"region\": \"\\u0421\\u0443\\u043c\\u0441\\u044c\\u043a\\u0430\", \"value\": 45.4, \"category\": \"\\u043f\\u043e\\u0441\\u043b\\u0443\\u0433\\u0438\"}, {\"year\": \"2010\", \"region\": \"\\u0421\\u0443\\u043c\\u0441\\u044c\\u043a\\u0430\", \"value\": 7.2, \"category\": \"\\u0434\\u0435\\u0440\\u0436\\u0443\\u043f\\u0440\\u0430\\u0432\\u043b\\u0456\\u043d\\u043d\\u044f\"}, {\"year\": \"2017\", \"region\": \"\\u0421\\u0443\\u043c\\u0441\\u044c\\u043a\\u0430\", \"value\": 26.1, \"category\": \"\\u0441\\u0456\\u043b\\u044c\\u0433\\u043e\\u0441\\u043f\"}, {\"year\": \"2017\", \"region\": \"\\u0421\\u0443\\u043c\\u0441\\u044c\\u043a\\u0430\", \"value\": 22.5, \"category\": \"\\u043f\\u0440\\u043e\\u043c\\u0438\\u0441\\u043b\\u043e\\u0432\\u0456\\u0441\\u0442\\u044c\"}, {\"year\": \"2017\", \"region\": \"\\u0421\\u0443\\u043c\\u0441\\u044c\\u043a\\u0430\", \"value\": 1.1, \"category\": \"\\u0431\\u0443\\u0434\\u0456\\u0432\\u043d\\u0438\\u0446\\u0442\\u0432\\u043e\"}, {\"year\": \"2017\", \"region\": \"\\u0421\\u0443\\u043c\\u0441\\u044c\\u043a\\u0430\", \"value\": 39.9, \"category\": \"\\u043f\\u043e\\u0441\\u043b\\u0443\\u0433\\u0438\"}, {\"year\": \"2017\", \"region\": \"\\u0421\\u0443\\u043c\\u0441\\u044c\\u043a\\u0430\", \"value\": 10.4, \"category\": \"\\u0434\\u0435\\u0440\\u0436\\u0443\\u043f\\u0440\\u0430\\u0432\\u043b\\u0456\\u043d\\u043d\\u044f\"}, {\"year\": \"2010\", \"region\": \"\\u0422\\u0435\\u0440\\u043d\\u043e\\u043f\\u0456\\u043b\\u044c\\u0441\\u044c\\u043a\\u0430\", \"value\": 19.4, \"category\": \"\\u0441\\u0456\\u043b\\u044c\\u0433\\u043e\\u0441\\u043f\"}, {\"year\": \"2010\", \"region\": \"\\u0422\\u0435\\u0440\\u043d\\u043e\\u043f\\u0456\\u043b\\u044c\\u0441\\u044c\\u043a\\u0430\", \"value\": 14.4, \"category\": \"\\u043f\\u0440\\u043e\\u043c\\u0438\\u0441\\u043b\\u043e\\u0432\\u0456\\u0441\\u0442\\u044c\"}, {\"year\": \"2010\", \"region\": \"\\u0422\\u0435\\u0440\\u043d\\u043e\\u043f\\u0456\\u043b\\u044c\\u0441\\u044c\\u043a\\u0430\", \"value\": 3.9, \"category\": \"\\u0431\\u0443\\u0434\\u0456\\u0432\\u043d\\u0438\\u0446\\u0442\\u0432\\u043e\"}, {\"year\": \"2010\", \"region\": \"\\u0422\\u0435\\u0440\\u043d\\u043e\\u043f\\u0456\\u043b\\u044c\\u0441\\u044c\\u043a\\u0430\", \"value\": 54.4, \"category\": \"\\u043f\\u043e\\u0441\\u043b\\u0443\\u0433\\u0438\"}, {\"year\": \"2010\", \"region\": \"\\u0422\\u0435\\u0440\\u043d\\u043e\\u043f\\u0456\\u043b\\u044c\\u0441\\u044c\\u043a\\u0430\", \"value\": 7.9, \"category\": \"\\u0434\\u0435\\u0440\\u0436\\u0443\\u043f\\u0440\\u0430\\u0432\\u043b\\u0456\\u043d\\u043d\\u044f\"}, {\"year\": \"2017\", \"region\": \"\\u0422\\u0435\\u0440\\u043d\\u043e\\u043f\\u0456\\u043b\\u044c\\u0441\\u044c\\u043a\\u0430\", \"value\": 28.1, \"category\": \"\\u0441\\u0456\\u043b\\u044c\\u0433\\u043e\\u0441\\u043f\"}, {\"year\": \"2017\", \"region\": \"\\u0422\\u0435\\u0440\\u043d\\u043e\\u043f\\u0456\\u043b\\u044c\\u0441\\u044c\\u043a\\u0430\", \"value\": 14.2, \"category\": \"\\u043f\\u0440\\u043e\\u043c\\u0438\\u0441\\u043b\\u043e\\u0432\\u0456\\u0441\\u0442\\u044c\"}, {\"year\": \"2017\", \"region\": \"\\u0422\\u0435\\u0440\\u043d\\u043e\\u043f\\u0456\\u043b\\u044c\\u0441\\u044c\\u043a\\u0430\", \"value\": 1.7, \"category\": \"\\u0431\\u0443\\u0434\\u0456\\u0432\\u043d\\u0438\\u0446\\u0442\\u0432\\u043e\"}, {\"year\": \"2017\", \"region\": \"\\u0422\\u0435\\u0440\\u043d\\u043e\\u043f\\u0456\\u043b\\u044c\\u0441\\u044c\\u043a\\u0430\", \"value\": 48.6, \"category\": \"\\u043f\\u043e\\u0441\\u043b\\u0443\\u0433\\u0438\"}, {\"year\": \"2017\", \"region\": \"\\u0422\\u0435\\u0440\\u043d\\u043e\\u043f\\u0456\\u043b\\u044c\\u0441\\u044c\\u043a\\u0430\", \"value\": 7.4, \"category\": \"\\u0434\\u0435\\u0440\\u0436\\u0443\\u043f\\u0440\\u0430\\u0432\\u043b\\u0456\\u043d\\u043d\\u044f\"}, {\"year\": \"2010\", \"region\": \"\\u0425\\u0430\\u0440\\u043a\\u0456\\u0432\\u0441\\u044c\\u043a\\u0430\", \"value\": 6.4, \"category\": \"\\u0441\\u0456\\u043b\\u044c\\u0433\\u043e\\u0441\\u043f\"}, {\"year\": \"2010\", \"region\": \"\\u0425\\u0430\\u0440\\u043a\\u0456\\u0432\\u0441\\u044c\\u043a\\u0430\", \"value\": 21.4, \"category\": \"\\u043f\\u0440\\u043e\\u043c\\u0438\\u0441\\u043b\\u043e\\u0432\\u0456\\u0441\\u0442\\u044c\"}, {\"year\": \"2010\", \"region\": \"\\u0425\\u0430\\u0440\\u043a\\u0456\\u0432\\u0441\\u044c\\u043a\\u0430\", \"value\": 3.9, \"category\": \"\\u0431\\u0443\\u0434\\u0456\\u0432\\u043d\\u0438\\u0446\\u0442\\u0432\\u043e\"}, {\"year\": \"2010\", \"region\": \"\\u0425\\u0430\\u0440\\u043a\\u0456\\u0432\\u0441\\u044c\\u043a\\u0430\", \"value\": 63.7, \"category\": \"\\u043f\\u043e\\u0441\\u043b\\u0443\\u0433\\u0438\"}, {\"year\": \"2010\", \"region\": \"\\u0425\\u0430\\u0440\\u043a\\u0456\\u0432\\u0441\\u044c\\u043a\\u0430\", \"value\": 4.6, \"category\": \"\\u0434\\u0435\\u0440\\u0436\\u0443\\u043f\\u0440\\u0430\\u0432\\u043b\\u0456\\u043d\\u043d\\u044f\"}, {\"year\": \"2017\", \"region\": \"\\u0425\\u0430\\u0440\\u043a\\u0456\\u0432\\u0441\\u044c\\u043a\\u0430\", \"value\": 11.1, \"category\": \"\\u0441\\u0456\\u043b\\u044c\\u0433\\u043e\\u0441\\u043f\"}, {\"year\": \"2017\", \"region\": \"\\u0425\\u0430\\u0440\\u043a\\u0456\\u0432\\u0441\\u044c\\u043a\\u0430\", \"value\": 31.0, \"category\": \"\\u043f\\u0440\\u043e\\u043c\\u0438\\u0441\\u043b\\u043e\\u0432\\u0456\\u0441\\u0442\\u044c\"}, {\"year\": \"2017\", \"region\": \"\\u0425\\u0430\\u0440\\u043a\\u0456\\u0432\\u0441\\u044c\\u043a\\u0430\", \"value\": 2.6, \"category\": \"\\u0431\\u0443\\u0434\\u0456\\u0432\\u043d\\u0438\\u0446\\u0442\\u0432\\u043e\"}, {\"year\": \"2017\", \"region\": \"\\u0425\\u0430\\u0440\\u043a\\u0456\\u0432\\u0441\\u044c\\u043a\\u0430\", \"value\": 49.3, \"category\": \"\\u043f\\u043e\\u0441\\u043b\\u0443\\u0433\\u0438\"}, {\"year\": \"2017\", \"region\": \"\\u0425\\u0430\\u0440\\u043a\\u0456\\u0432\\u0441\\u044c\\u043a\\u0430\", \"value\": 6.0, \"category\": \"\\u0434\\u0435\\u0440\\u0436\\u0443\\u043f\\u0440\\u0430\\u0432\\u043b\\u0456\\u043d\\u043d\\u044f\"}, {\"year\": \"2010\", \"region\": \"\\u0425\\u0435\\u0440\\u0441\\u043e\\u043d\\u0441\\u044c\\u043a\\u0430\", \"value\": 23.7, \"category\": \"\\u0441\\u0456\\u043b\\u044c\\u0433\\u043e\\u0441\\u043f\"}, {\"year\": \"2010\", \"region\": \"\\u0425\\u0435\\u0440\\u0441\\u043e\\u043d\\u0441\\u044c\\u043a\\u0430\", \"value\": 16.5, \"category\": \"\\u043f\\u0440\\u043e\\u043c\\u0438\\u0441\\u043b\\u043e\\u0432\\u0456\\u0441\\u0442\\u044c\"}, {\"year\": \"2010\", \"region\": \"\\u0425\\u0435\\u0440\\u0441\\u043e\\u043d\\u0441\\u044c\\u043a\\u0430\", \"value\": 2.3, \"category\": \"\\u0431\\u0443\\u0434\\u0456\\u0432\\u043d\\u0438\\u0446\\u0442\\u0432\\u043e\"}, {\"year\": \"2010\", \"region\": \"\\u0425\\u0435\\u0440\\u0441\\u043e\\u043d\\u0441\\u044c\\u043a\\u0430\", \"value\": 50.4, \"category\": \"\\u043f\\u043e\\u0441\\u043b\\u0443\\u0433\\u0438\"}, {\"year\": \"2010\", \"region\": \"\\u0425\\u0435\\u0440\\u0441\\u043e\\u043d\\u0441\\u044c\\u043a\\u0430\", \"value\": 7.1, \"category\": \"\\u0434\\u0435\\u0440\\u0436\\u0443\\u043f\\u0440\\u0430\\u0432\\u043b\\u0456\\u043d\\u043d\\u044f\"}, {\"year\": \"2017\", \"region\": \"\\u0425\\u0435\\u0440\\u0441\\u043e\\u043d\\u0441\\u044c\\u043a\\u0430\", \"value\": 33.0, \"category\": \"\\u0441\\u0456\\u043b\\u044c\\u0433\\u043e\\u0441\\u043f\"}, {\"year\": \"2017\", \"region\": \"\\u0425\\u0435\\u0440\\u0441\\u043e\\u043d\\u0441\\u044c\\u043a\\u0430\", \"value\": 15.1, \"category\": \"\\u043f\\u0440\\u043e\\u043c\\u0438\\u0441\\u043b\\u043e\\u0432\\u0456\\u0441\\u0442\\u044c\"}, {\"year\": \"2017\", \"region\": \"\\u0425\\u0435\\u0440\\u0441\\u043e\\u043d\\u0441\\u044c\\u043a\\u0430\", \"value\": 1.2, \"category\": \"\\u0431\\u0443\\u0434\\u0456\\u0432\\u043d\\u0438\\u0446\\u0442\\u0432\\u043e\"}, {\"year\": \"2017\", \"region\": \"\\u0425\\u0435\\u0440\\u0441\\u043e\\u043d\\u0441\\u044c\\u043a\\u0430\", \"value\": 42.3, \"category\": \"\\u043f\\u043e\\u0441\\u043b\\u0443\\u0433\\u0438\"}, {\"year\": \"2017\", \"region\": \"\\u0425\\u0435\\u0440\\u0441\\u043e\\u043d\\u0441\\u044c\\u043a\\u0430\", \"value\": 8.4, \"category\": \"\\u0434\\u0435\\u0440\\u0436\\u0443\\u043f\\u0440\\u0430\\u0432\\u043b\\u0456\\u043d\\u043d\\u044f\"}, {\"year\": \"2010\", \"region\": \"\\u0425\\u043c\\u0435\\u043b\\u044c\\u043d\\u0438\\u0446\\u044c\\u043a\\u0430\", \"value\": 18.4, \"category\": \"\\u0441\\u0456\\u043b\\u044c\\u0433\\u043e\\u0441\\u043f\"}, {\"year\": \"2010\", \"region\": \"\\u0425\\u043c\\u0435\\u043b\\u044c\\u043d\\u0438\\u0446\\u044c\\u043a\\u0430\", \"value\": 19.4, \"category\": \"\\u043f\\u0440\\u043e\\u043c\\u0438\\u0441\\u043b\\u043e\\u0432\\u0456\\u0441\\u0442\\u044c\"}, {\"year\": \"2010\", \"region\": \"\\u0425\\u043c\\u0435\\u043b\\u044c\\u043d\\u0438\\u0446\\u044c\\u043a\\u0430\", \"value\": 3.5, \"category\": \"\\u0431\\u0443\\u0434\\u0456\\u0432\\u043d\\u0438\\u0446\\u0442\\u0432\\u043e\"}, {\"year\": \"2010\", \"region\": \"\\u0425\\u043c\\u0435\\u043b\\u044c\\u043d\\u0438\\u0446\\u044c\\u043a\\u0430\", \"value\": 50.2, \"category\": \"\\u043f\\u043e\\u0441\\u043b\\u0443\\u0433\\u0438\"}, {\"year\": \"2010\", \"region\": \"\\u0425\\u043c\\u0435\\u043b\\u044c\\u043d\\u0438\\u0446\\u044c\\u043a\\u0430\", \"value\": 8.5, \"category\": \"\\u0434\\u0435\\u0440\\u0436\\u0443\\u043f\\u0440\\u0430\\u0432\\u043b\\u0456\\u043d\\u043d\\u044f\"}, {\"year\": \"2017\", \"region\": \"\\u0425\\u043c\\u0435\\u043b\\u044c\\u043d\\u0438\\u0446\\u044c\\u043a\\u0430\", \"value\": 31.1, \"category\": \"\\u0441\\u0456\\u043b\\u044c\\u0433\\u043e\\u0441\\u043f\"}, {\"year\": \"2017\", \"region\": \"\\u0425\\u043c\\u0435\\u043b\\u044c\\u043d\\u0438\\u0446\\u044c\\u043a\\u0430\", \"value\": 17.5, \"category\": \"\\u043f\\u0440\\u043e\\u043c\\u0438\\u0441\\u043b\\u043e\\u0432\\u0456\\u0441\\u0442\\u044c\"}, {\"year\": \"2017\", \"region\": \"\\u0425\\u043c\\u0435\\u043b\\u044c\\u043d\\u0438\\u0446\\u044c\\u043a\\u0430\", \"value\": 1.9, \"category\": \"\\u0431\\u0443\\u0434\\u0456\\u0432\\u043d\\u0438\\u0446\\u0442\\u0432\\u043e\"}, {\"year\": \"2017\", \"region\": \"\\u0425\\u043c\\u0435\\u043b\\u044c\\u043d\\u0438\\u0446\\u044c\\u043a\\u0430\", \"value\": 40.6, \"category\": \"\\u043f\\u043e\\u0441\\u043b\\u0443\\u0433\\u0438\"}, {\"year\": \"2017\", \"region\": \"\\u0425\\u043c\\u0435\\u043b\\u044c\\u043d\\u0438\\u0446\\u044c\\u043a\\u0430\", \"value\": 8.9, \"category\": \"\\u0434\\u0435\\u0440\\u0436\\u0443\\u043f\\u0440\\u0430\\u0432\\u043b\\u0456\\u043d\\u043d\\u044f\"}, {\"year\": \"2010\", \"region\": \"\\u0427\\u0435\\u0440\\u043a\\u0430\\u0441\\u044c\\u043a\\u0430\", \"value\": 19.6, \"category\": \"\\u0441\\u0456\\u043b\\u044c\\u0433\\u043e\\u0441\\u043f\"}, {\"year\": \"2010\", \"region\": \"\\u0427\\u0435\\u0440\\u043a\\u0430\\u0441\\u044c\\u043a\\u0430\", \"value\": 25.9, \"category\": \"\\u043f\\u0440\\u043e\\u043c\\u0438\\u0441\\u043b\\u043e\\u0432\\u0456\\u0441\\u0442\\u044c\"}, {\"year\": \"2010\", \"region\": \"\\u0427\\u0435\\u0440\\u043a\\u0430\\u0441\\u044c\\u043a\\u0430\", \"value\": 2.7, \"category\": \"\\u0431\\u0443\\u0434\\u0456\\u0432\\u043d\\u0438\\u0446\\u0442\\u0432\\u043e\"}, {\"year\": \"2010\", \"region\": \"\\u0427\\u0435\\u0440\\u043a\\u0430\\u0441\\u044c\\u043a\\u0430\", \"value\": 45.4, \"category\": \"\\u043f\\u043e\\u0441\\u043b\\u0443\\u0433\\u0438\"}, {\"year\": \"2010\", \"region\": \"\\u0427\\u0435\\u0440\\u043a\\u0430\\u0441\\u044c\\u043a\\u0430\", \"value\": 6.4, \"category\": \"\\u0434\\u0435\\u0440\\u0436\\u0443\\u043f\\u0440\\u0430\\u0432\\u043b\\u0456\\u043d\\u043d\\u044f\"}, {\"year\": \"2017\", \"region\": \"\\u0427\\u0435\\u0440\\u043a\\u0430\\u0441\\u044c\\u043a\\u0430\", \"value\": 21.8, \"category\": \"\\u0441\\u0456\\u043b\\u044c\\u0433\\u043e\\u0441\\u043f\"}, {\"year\": \"2017\", \"region\": \"\\u0427\\u0435\\u0440\\u043a\\u0430\\u0441\\u044c\\u043a\\u0430\", \"value\": 25.2, \"category\": \"\\u043f\\u0440\\u043e\\u043c\\u0438\\u0441\\u043b\\u043e\\u0432\\u0456\\u0441\\u0442\\u044c\"}, {\"year\": \"2017\", \"region\": \"\\u0427\\u0435\\u0440\\u043a\\u0430\\u0441\\u044c\\u043a\\u0430\", \"value\": 1.3, \"category\": \"\\u0431\\u0443\\u0434\\u0456\\u0432\\u043d\\u0438\\u0446\\u0442\\u0432\\u043e\"}, {\"year\": \"2017\", \"region\": \"\\u0427\\u0435\\u0440\\u043a\\u0430\\u0441\\u044c\\u043a\\u0430\", \"value\": 45.6, \"category\": \"\\u043f\\u043e\\u0441\\u043b\\u0443\\u0433\\u0438\"}, {\"year\": \"2017\", \"region\": \"\\u0427\\u0435\\u0440\\u043a\\u0430\\u0441\\u044c\\u043a\\u0430\", \"value\": 6.1, \"category\": \"\\u0434\\u0435\\u0440\\u0436\\u0443\\u043f\\u0440\\u0430\\u0432\\u043b\\u0456\\u043d\\u043d\\u044f\"}, {\"year\": \"2010\", \"region\": \"\\u0427\\u0435\\u0440\\u043d\\u0456\\u0432\\u0435\\u0446\\u044c\\u043a\\u0430\", \"value\": 18.7, \"category\": \"\\u0441\\u0456\\u043b\\u044c\\u0433\\u043e\\u0441\\u043f\"}, {\"year\": \"2010\", \"region\": \"\\u0427\\u0435\\u0440\\u043d\\u0456\\u0432\\u0435\\u0446\\u044c\\u043a\\u0430\", \"value\": 11.9, \"category\": \"\\u043f\\u0440\\u043e\\u043c\\u0438\\u0441\\u043b\\u043e\\u0432\\u0456\\u0441\\u0442\\u044c\"}, {\"year\": \"2010\", \"region\": \"\\u0427\\u0435\\u0440\\u043d\\u0456\\u0432\\u0435\\u0446\\u044c\\u043a\\u0430\", \"value\": 5.3, \"category\": \"\\u0431\\u0443\\u0434\\u0456\\u0432\\u043d\\u0438\\u0446\\u0442\\u0432\\u043e\"}, {\"year\": \"2010\", \"region\": \"\\u0427\\u0435\\u0440\\u043d\\u0456\\u0432\\u0435\\u0446\\u044c\\u043a\\u0430\", \"value\": 54.4, \"category\": \"\\u043f\\u043e\\u0441\\u043b\\u0443\\u0433\\u0438\"}, {\"year\": \"2010\", \"region\": \"\\u0427\\u0435\\u0440\\u043d\\u0456\\u0432\\u0435\\u0446\\u044c\\u043a\\u0430\", \"value\": 9.7, \"category\": \"\\u0434\\u0435\\u0440\\u0436\\u0443\\u043f\\u0440\\u0430\\u0432\\u043b\\u0456\\u043d\\u043d\\u044f\"}, {\"year\": \"2017\", \"region\": \"\\u0427\\u0435\\u0440\\u043d\\u0456\\u0432\\u0435\\u0446\\u044c\\u043a\\u0430\", \"value\": 22.3, \"category\": \"\\u0441\\u0456\\u043b\\u044c\\u0433\\u043e\\u0441\\u043f\"}, {\"year\": \"2017\", \"region\": \"\\u0427\\u0435\\u0440\\u043d\\u0456\\u0432\\u0435\\u0446\\u044c\\u043a\\u0430\", \"value\": 10.7, \"category\": \"\\u043f\\u0440\\u043e\\u043c\\u0438\\u0441\\u043b\\u043e\\u0432\\u0456\\u0441\\u0442\\u044c\"}, {\"year\": \"2017\", \"region\": \"\\u0427\\u0435\\u0440\\u043d\\u0456\\u0432\\u0435\\u0446\\u044c\\u043a\\u0430\", \"value\": 3.1, \"category\": \"\\u0431\\u0443\\u0434\\u0456\\u0432\\u043d\\u0438\\u0446\\u0442\\u0432\\u043e\"}, {\"year\": \"2017\", \"region\": \"\\u0427\\u0435\\u0440\\u043d\\u0456\\u0432\\u0435\\u0446\\u044c\\u043a\\u0430\", \"value\": 54.8, \"category\": \"\\u043f\\u043e\\u0441\\u043b\\u0443\\u0433\\u0438\"}, {\"year\": \"2017\", \"region\": \"\\u0427\\u0435\\u0440\\u043d\\u0456\\u0432\\u0435\\u0446\\u044c\\u043a\\u0430\", \"value\": 9.1, \"category\": \"\\u0434\\u0435\\u0440\\u0436\\u0443\\u043f\\u0440\\u0430\\u0432\\u043b\\u0456\\u043d\\u043d\\u044f\"}, {\"year\": \"2010\", \"region\": \"\\u0427\\u0435\\u0440\\u043d\\u0456\\u0433\\u0456\\u0432\\u0441\\u044c\\u043a\\u0430\", \"value\": 18.3, \"category\": \"\\u0441\\u0456\\u043b\\u044c\\u0433\\u043e\\u0441\\u043f\"}, {\"year\": \"2010\", \"region\": \"\\u0427\\u0435\\u0440\\u043d\\u0456\\u0433\\u0456\\u0432\\u0441\\u044c\\u043a\\u0430\", \"value\": 21.6, \"category\": \"\\u043f\\u0440\\u043e\\u043c\\u0438\\u0441\\u043b\\u043e\\u0432\\u0456\\u0441\\u0442\\u044c\"}, {\"year\": \"2010\", \"region\": \"\\u0427\\u0435\\u0440\\u043d\\u0456\\u0433\\u0456\\u0432\\u0441\\u044c\\u043a\\u0430\", \"value\": 2.0, \"category\": \"\\u0431\\u0443\\u0434\\u0456\\u0432\\u043d\\u0438\\u0446\\u0442\\u0432\\u043e\"}, {\"year\": \"2010\", \"region\": \"\\u0427\\u0435\\u0440\\u043d\\u0456\\u0433\\u0456\\u0432\\u0441\\u044c\\u043a\\u0430\", \"value\": 48.5, \"category\": \"\\u043f\\u043e\\u0441\\u043b\\u0443\\u0433\\u0438\"}, {\"year\": \"2010\", \"region\": \"\\u0427\\u0435\\u0440\\u043d\\u0456\\u0433\\u0456\\u0432\\u0441\\u044c\\u043a\\u0430\", \"value\": 9.6, \"category\": \"\\u0434\\u0435\\u0440\\u0436\\u0443\\u043f\\u0440\\u0430\\u0432\\u043b\\u0456\\u043d\\u043d\\u044f\"}, {\"year\": \"2017\", \"region\": \"\\u0427\\u0435\\u0440\\u043d\\u0456\\u0433\\u0456\\u0432\\u0441\\u044c\\u043a\\u0430\", \"value\": 28.2, \"category\": \"\\u0441\\u0456\\u043b\\u044c\\u0433\\u043e\\u0441\\u043f\"}, {\"year\": \"2017\", \"region\": \"\\u0427\\u0435\\u0440\\u043d\\u0456\\u0433\\u0456\\u0432\\u0441\\u044c\\u043a\\u0430\", \"value\": 20.5, \"category\": \"\\u043f\\u0440\\u043e\\u043c\\u0438\\u0441\\u043b\\u043e\\u0432\\u0456\\u0441\\u0442\\u044c\"}, {\"year\": \"2017\", \"region\": \"\\u0427\\u0435\\u0440\\u043d\\u0456\\u0433\\u0456\\u0432\\u0441\\u044c\\u043a\\u0430\", \"value\": 1.1, \"category\": \"\\u0431\\u0443\\u0434\\u0456\\u0432\\u043d\\u0438\\u0446\\u0442\\u0432\\u043e\"}, {\"year\": \"2017\", \"region\": \"\\u0427\\u0435\\u0440\\u043d\\u0456\\u0433\\u0456\\u0432\\u0441\\u044c\\u043a\\u0430\", \"value\": 39.6, \"category\": \"\\u043f\\u043e\\u0441\\u043b\\u0443\\u0433\\u0438\"}, {\"year\": \"2017\", \"region\": \"\\u0427\\u0435\\u0440\\u043d\\u0456\\u0433\\u0456\\u0432\\u0441\\u044c\\u043a\\u0430\", \"value\": 10.6, \"category\": \"\\u0434\\u0435\\u0440\\u0436\\u0443\\u043f\\u0440\\u0430\\u0432\\u043b\\u0456\\u043d\\u043d\\u044f\"}, {\"year\": \"2010\", \"region\": \"\\u043c.\\u041a\\u0438\\u0457\\u0432\", \"value\": 0.0, \"category\": \"\\u0441\\u0456\\u043b\\u044c\\u0433\\u043e\\u0441\\u043f\"}, {\"year\": \"2010\", \"region\": \"\\u043c.\\u041a\\u0438\\u0457\\u0432\", \"value\": 6.2, \"category\": \"\\u043f\\u0440\\u043e\\u043c\\u0438\\u0441\\u043b\\u043e\\u0432\\u0456\\u0441\\u0442\\u044c\"}, {\"year\": \"2010\", \"region\": \"\\u043c.\\u041a\\u0438\\u0457\\u0432\", \"value\": 3.6, \"category\": \"\\u0431\\u0443\\u0434\\u0456\\u0432\\u043d\\u0438\\u0446\\u0442\\u0432\\u043e\"}, {\"year\": \"2010\", \"region\": \"\\u043c.\\u041a\\u0438\\u0457\\u0432\", \"value\": 86.2, \"category\": \"\\u043f\\u043e\\u0441\\u043b\\u0443\\u0433\\u0438\"}, {\"year\": \"2010\", \"region\": \"\\u043c.\\u041a\\u0438\\u0457\\u0432\", \"value\": 4.0, \"category\": \"\\u0434\\u0435\\u0440\\u0436\\u0443\\u043f\\u0440\\u0430\\u0432\\u043b\\u0456\\u043d\\u043d\\u044f\"}, {\"year\": \"2017\", \"region\": \"\\u043c.\\u041a\\u0438\\u0457\\u0432\", \"value\": 0.0, \"category\": \"\\u0441\\u0456\\u043b\\u044c\\u0433\\u043e\\u0441\\u043f\"}, {\"year\": \"2017\", \"region\": \"\\u043c.\\u041a\\u0438\\u0457\\u0432\", \"value\": 10.1, \"category\": \"\\u043f\\u0440\\u043e\\u043c\\u0438\\u0441\\u043b\\u043e\\u0432\\u0456\\u0441\\u0442\\u044c\"}, {\"year\": \"2017\", \"region\": \"\\u043c.\\u041a\\u0438\\u0457\\u0432\", \"value\": 3.5, \"category\": \"\\u0431\\u0443\\u0434\\u0456\\u0432\\u043d\\u0438\\u0446\\u0442\\u0432\\u043e\"}, {\"year\": \"2017\", \"region\": \"\\u043c.\\u041a\\u0438\\u0457\\u0432\", \"value\": 82.8, \"category\": \"\\u043f\\u043e\\u0441\\u043b\\u0443\\u0433\\u0438\"}, {\"year\": \"2017\", \"region\": \"\\u043c.\\u041a\\u0438\\u0457\\u0432\", \"value\": 3.6, \"category\": \"\\u0434\\u0435\\u0440\\u0436\\u0443\\u043f\\u0440\\u0430\\u0432\\u043b\\u0456\\u043d\\u043d\\u044f\"}], \"data-781b7feb140dbecc658f5265c828f1b7\": [{\"year\": \"2010\", \"region\": \"\\u0423\\u043a\\u0440\\u0430\\u0457\\u043d\\u0430\", \"value\": 8.3, \"category\": \"\\u0441\\u0456\\u043b\\u044c\\u0433\\u043e\\u0441\\u043f\"}, {\"year\": \"2010\", \"region\": \"\\u0423\\u043a\\u0440\\u0430\\u0457\\u043d\\u0430\", \"value\": 25.9, \"category\": \"\\u043f\\u0440\\u043e\\u043c\\u0438\\u0441\\u043b\\u043e\\u0432\\u0456\\u0441\\u0442\\u044c\"}, {\"year\": \"2010\", \"region\": \"\\u0423\\u043a\\u0440\\u0430\\u0457\\u043d\\u0430\", \"value\": 3.3, \"category\": \"\\u0431\\u0443\\u0434\\u0456\\u0432\\u043d\\u0438\\u0446\\u0442\\u0432\\u043e\"}, {\"year\": \"2010\", \"region\": \"\\u0423\\u043a\\u0440\\u0430\\u0457\\u043d\\u0430\", \"value\": 57.3, \"category\": \"\\u043f\\u043e\\u0441\\u043b\\u0443\\u0433\\u0438\"}, {\"year\": \"2010\", \"region\": \"\\u0423\\u043a\\u0440\\u0430\\u0457\\u043d\\u0430\", \"value\": 5.2, \"category\": \"\\u0434\\u0435\\u0440\\u0436\\u0443\\u043f\\u0440\\u0430\\u0432\\u043b\\u0456\\u043d\\u043d\\u044f\"}, {\"year\": \"2017\", \"region\": \"\\u0423\\u043a\\u0440\\u0430\\u0457\\u043d\\u0430\", \"value\": 12.1, \"category\": \"\\u0441\\u0456\\u043b\\u044c\\u0433\\u043e\\u0441\\u043f\"}, {\"year\": \"2017\", \"region\": \"\\u0423\\u043a\\u0440\\u0430\\u0457\\u043d\\u0430\", \"value\": 25.2, \"category\": \"\\u043f\\u0440\\u043e\\u043c\\u0438\\u0441\\u043b\\u043e\\u0432\\u0456\\u0441\\u0442\\u044c\"}, {\"year\": \"2017\", \"region\": \"\\u0423\\u043a\\u0440\\u0430\\u0457\\u043d\\u0430\", \"value\": 2.5, \"category\": \"\\u0431\\u0443\\u0434\\u0456\\u0432\\u043d\\u0438\\u0446\\u0442\\u0432\\u043e\"}, {\"year\": \"2017\", \"region\": \"\\u0423\\u043a\\u0440\\u0430\\u0457\\u043d\\u0430\", \"value\": 53.7, \"category\": \"\\u043f\\u043e\\u0441\\u043b\\u0443\\u0433\\u0438\"}, {\"year\": \"2017\", \"region\": \"\\u0423\\u043a\\u0440\\u0430\\u0457\\u043d\\u0430\", \"value\": 6.5, \"category\": \"\\u0434\\u0435\\u0440\\u0436\\u0443\\u043f\\u0440\\u0430\\u0432\\u043b\\u0456\\u043d\\u043d\\u044f\"}]}}, {\"mode\": \"vega-lite\"});\n",
       "</script>"
      ],
      "text/plain": [
       "alt.HConcatChart(...)"
      ]
     },
     "execution_count": 91,
     "metadata": {},
     "output_type": "execute_result"
    }
   ],
   "source": [
    "alt.hconcat(\n",
    "    alt.layer(lines, points)\n",
    "    .add_selection(select_category)\n",
    "    .transform_filter(select_category)\n",
    "    .properties(width = 600, height = 600, title=\"Зміна структури ВДВ у розрізі регіонів за 2017 рік порівняно з 2010 роком\"),\n",
    "    ukr_chart.properties(width=100, height = 600)\n",
    ")"
   ]
  }
 ],
 "metadata": {
  "kernelspec": {
   "display_name": "Python 3 (ipykernel)",
   "language": "python",
   "name": "python3"
  },
  "language_info": {
   "codemirror_mode": {
    "name": "ipython",
    "version": 3
   },
   "file_extension": ".py",
   "mimetype": "text/x-python",
   "name": "python",
   "nbconvert_exporter": "python",
   "pygments_lexer": "ipython3",
   "version": "3.8.2"
  }
 },
 "nbformat": 4,
 "nbformat_minor": 5
}
